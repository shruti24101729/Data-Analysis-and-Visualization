{
  "nbformat": 4,
  "nbformat_minor": 0,
  "metadata": {
    "colab": {
      "provenance": []
    },
    "kernelspec": {
      "name": "python3",
      "display_name": "Python 3"
    },
    "language_info": {
      "name": "python"
    }
  },
  "cells": [
    {
      "cell_type": "code",
      "execution_count": null,
      "metadata": {
        "id": "xzfT41iTYjA9"
      },
      "outputs": [],
      "source": [
        "import numpy as np\n",
        "import pandas as pd"
      ]
    },
    {
      "cell_type": "code",
      "source": [
        "#why numpy array is required instead of having of python list?\n",
        "#numpy arrays facilitate advanced mathematical and other types of operations on large number of data."
      ],
      "metadata": {
        "id": "pe3wtEU-8DYL"
      },
      "execution_count": null,
      "outputs": []
    },
    {
      "cell_type": "code",
      "source": [
        "#df=pd.read_csv('BostonHousing.csv')"
      ],
      "metadata": {
        "id": "vm1NSgGDZiMc"
      },
      "execution_count": null,
      "outputs": []
    },
    {
      "cell_type": "markdown",
      "source": [
        "Creating numpy arrays\n"
      ],
      "metadata": {
        "id": "cjqyt4iTfhmx"
      }
    },
    {
      "cell_type": "code",
      "source": [
        "a=np.array([1,2,3])# 1D numpy array\n",
        "print(a)\n",
        "print(type(a))"
      ],
      "metadata": {
        "colab": {
          "base_uri": "https://localhost:8080/"
        },
        "id": "_Oh_q2HJf9P7",
        "outputId": "8ca2e051-caa0-4acd-a796-64209f5a695f"
      },
      "execution_count": null,
      "outputs": [
        {
          "output_type": "stream",
          "name": "stdout",
          "text": [
            "[1 2 3]\n",
            "<class 'numpy.ndarray'>\n"
          ]
        }
      ]
    },
    {
      "cell_type": "code",
      "source": [
        "b=np.array([[1,2,3],[1,3,5]])\n",
        "print(b)\n",
        "#2d array"
      ],
      "metadata": {
        "colab": {
          "base_uri": "https://localhost:8080/"
        },
        "id": "d1PcaTuHgNhn",
        "outputId": "48ff05bd-9371-48b3-8b3e-dfa6840fcc7c"
      },
      "execution_count": null,
      "outputs": [
        {
          "output_type": "stream",
          "name": "stdout",
          "text": [
            "[[1 2 3]\n",
            " [1 3 5]]\n"
          ]
        }
      ]
    },
    {
      "cell_type": "code",
      "source": [
        "c=np.array([[[1,2],[3,4]],[[5,6],[7,8]]])\n",
        "print(c)\n",
        "#3d array"
      ],
      "metadata": {
        "colab": {
          "base_uri": "https://localhost:8080/"
        },
        "id": "mTV7dlg6gX92",
        "outputId": "8ef96854-9157-4449-ba14-53232877d09c"
      },
      "execution_count": null,
      "outputs": [
        {
          "output_type": "stream",
          "name": "stdout",
          "text": [
            "[[[1 2]\n",
            "  [3 4]]\n",
            "\n",
            " [[5 6]\n",
            "  [7 8]]]\n"
          ]
        }
      ]
    },
    {
      "cell_type": "code",
      "source": [
        "np.array([1,2,3],dtype=float)\n",
        "np.array([1,2,3],dtype=bool)\n",
        "np.array([1,2,3],dtype=complex)"
      ],
      "metadata": {
        "colab": {
          "base_uri": "https://localhost:8080/"
        },
        "id": "cfiIvssIhdLf",
        "outputId": "ee6106f4-c44f-4ab0-e158-2df16facd6e7"
      },
      "execution_count": null,
      "outputs": [
        {
          "output_type": "execute_result",
          "data": {
            "text/plain": [
              "array([1.+0.j, 2.+0.j, 3.+0.j])"
            ]
          },
          "metadata": {},
          "execution_count": 6
        }
      ]
    },
    {
      "cell_type": "code",
      "source": [
        "np.arange(1,11)\n",
        "np.arange(1,11,2)"
      ],
      "metadata": {
        "colab": {
          "base_uri": "https://localhost:8080/"
        },
        "id": "NRTesePkhmDo",
        "outputId": "7fca030c-2f85-461d-808f-bc283cf4a693"
      },
      "execution_count": null,
      "outputs": [
        {
          "output_type": "execute_result",
          "data": {
            "text/plain": [
              "array([1, 3, 5, 7, 9])"
            ]
          },
          "metadata": {},
          "execution_count": 7
        }
      ]
    },
    {
      "cell_type": "code",
      "source": [
        "np.arange(1,11).reshape(5,2)\n",
        "np.arange(16).reshape(2,2,2,2)"
      ],
      "metadata": {
        "colab": {
          "base_uri": "https://localhost:8080/"
        },
        "id": "qxueVL3XiNjj",
        "outputId": "ddca8348-27bb-4135-acf5-b0851ad20bad"
      },
      "execution_count": null,
      "outputs": [
        {
          "output_type": "execute_result",
          "data": {
            "text/plain": [
              "array([[[[ 0,  1],\n",
              "         [ 2,  3]],\n",
              "\n",
              "        [[ 4,  5],\n",
              "         [ 6,  7]]],\n",
              "\n",
              "\n",
              "       [[[ 8,  9],\n",
              "         [10, 11]],\n",
              "\n",
              "        [[12, 13],\n",
              "         [14, 15]]]])"
            ]
          },
          "metadata": {},
          "execution_count": 8
        }
      ]
    },
    {
      "cell_type": "code",
      "source": [
        "#ndim\n",
        "a1=np.arange(1,11).reshape(5,2)\n",
        "a2=np.arange(16).reshape(2,2,2,2)\n",
        "a2.ndim"
      ],
      "metadata": {
        "colab": {
          "base_uri": "https://localhost:8080/"
        },
        "id": "KS9YTyC0tyim",
        "outputId": "9f1edea2-2315-4e37-9a6f-af927ee4c03c"
      },
      "execution_count": null,
      "outputs": [
        {
          "output_type": "execute_result",
          "data": {
            "text/plain": [
              "4"
            ]
          },
          "metadata": {},
          "execution_count": 9
        }
      ]
    },
    {
      "cell_type": "code",
      "source": [
        "a1.shape# number of rows and columns"
      ],
      "metadata": {
        "colab": {
          "base_uri": "https://localhost:8080/"
        },
        "id": "_IsHCa4YuM2z",
        "outputId": "3f8cccde-2f04-47e8-cebe-323e135a7abd"
      },
      "execution_count": null,
      "outputs": [
        {
          "output_type": "execute_result",
          "data": {
            "text/plain": [
              "(5, 2)"
            ]
          },
          "metadata": {},
          "execution_count": 10
        }
      ]
    },
    {
      "cell_type": "code",
      "source": [
        "a2.size#number of elements"
      ],
      "metadata": {
        "colab": {
          "base_uri": "https://localhost:8080/"
        },
        "id": "0aWR_ipVutU5",
        "outputId": "acd49849-756d-4e7d-e130-0fd43e43738b"
      },
      "execution_count": null,
      "outputs": [
        {
          "output_type": "execute_result",
          "data": {
            "text/plain": [
              "16"
            ]
          },
          "metadata": {},
          "execution_count": 11
        }
      ]
    },
    {
      "cell_type": "code",
      "source": [
        "a1.itemsize # number of bytes in memory"
      ],
      "metadata": {
        "colab": {
          "base_uri": "https://localhost:8080/"
        },
        "id": "w6gON0yDu10Y",
        "outputId": "8c110b93-4d53-4644-cd43-2b3bdcd1a1da"
      },
      "execution_count": null,
      "outputs": [
        {
          "output_type": "execute_result",
          "data": {
            "text/plain": [
              "8"
            ]
          },
          "metadata": {},
          "execution_count": 12
        }
      ]
    },
    {
      "cell_type": "code",
      "source": [
        "a1.dtype"
      ],
      "metadata": {
        "colab": {
          "base_uri": "https://localhost:8080/"
        },
        "id": "ly6OCCKOvd0M",
        "outputId": "5e1e9f2e-0bd8-42d5-8b79-dc248b4d9409"
      },
      "execution_count": null,
      "outputs": [
        {
          "output_type": "execute_result",
          "data": {
            "text/plain": [
              "dtype('int64')"
            ]
          },
          "metadata": {},
          "execution_count": 13
        }
      ]
    },
    {
      "cell_type": "code",
      "source": [
        "arr=np.array([[1,2,3],[4,5,6]])\n",
        "flat_arr=arr.flatten()\n",
        "print(flat_arr)"
      ],
      "metadata": {
        "colab": {
          "base_uri": "https://localhost:8080/"
        },
        "id": "vGusqRi5OjOT",
        "outputId": "4648715e-11c2-4a7c-94eb-a4c05f0ef329"
      },
      "execution_count": null,
      "outputs": [
        {
          "output_type": "stream",
          "name": "stdout",
          "text": [
            "[1 2 3 4 5 6]\n"
          ]
        }
      ]
    },
    {
      "cell_type": "code",
      "source": [
        "############ sorting ###############\n",
        "import numpy as np\n",
        "\n",
        "a = np.array([[1, 4, 2],\n",
        "                 [3, 4, 6],\n",
        "              [0, -1, 5]])\n",
        "\n",
        "np.sort(a, axis = None)\n",
        "#np.sort(a, axis = 1)\n",
        "#np.sort(a, axis = 0, kind = 'mergesort')\n",
        "dtypes = [('name', 'S10'), ('grad_year', int), ('cgpa', float)]\n",
        "values = [('Hrithik', 2009, 8.5), ('Ajay', 2008, 8.7),  ('Pankaj', 2008, 7.9), ('Aakash', 2009, 9.0)]\n",
        "arr = np.array(values,dtype=dtypes)\n",
        "np.sort(arr, order = 'name')\n",
        "np.sort(arr, order = ['grad_year', 'cgpa'])"
      ],
      "metadata": {
        "colab": {
          "base_uri": "https://localhost:8080/"
        },
        "id": "JVugl9MRPhO0",
        "outputId": "499d99e2-e1d5-4754-b3c4-8f404feb4174"
      },
      "execution_count": null,
      "outputs": [
        {
          "output_type": "execute_result",
          "data": {
            "text/plain": [
              "array([(b'Pankaj', 2008, 7.9), (b'Ajay', 2008, 8.7),\n",
              "       (b'Hrithik', 2009, 8.5), (b'Aakash', 2009, 9. )],\n",
              "      dtype=[('name', 'S10'), ('grad_year', '<i8'), ('cgpa', '<f8')])"
            ]
          },
          "metadata": {},
          "execution_count": 15
        }
      ]
    },
    {
      "cell_type": "code",
      "source": [
        "np.ones((3,4))\n",
        "np.zeros((3,4))"
      ],
      "metadata": {
        "colab": {
          "base_uri": "https://localhost:8080/"
        },
        "id": "Hn9uu2CanRhs",
        "outputId": "dc857b26-92b3-42a6-f557-30a242867d4c"
      },
      "execution_count": null,
      "outputs": [
        {
          "output_type": "execute_result",
          "data": {
            "text/plain": [
              "array([[0., 0., 0., 0.],\n",
              "       [0., 0., 0., 0.],\n",
              "       [0., 0., 0., 0.]])"
            ]
          },
          "metadata": {},
          "execution_count": 16
        }
      ]
    },
    {
      "cell_type": "code",
      "source": [
        "np.random.random((3,4))# value between 0 and 1"
      ],
      "metadata": {
        "colab": {
          "base_uri": "https://localhost:8080/"
        },
        "id": "H0x4VFzJnu7f",
        "outputId": "9bdddc42-60d4-4656-c154-776ce4bd2f37"
      },
      "execution_count": null,
      "outputs": [
        {
          "output_type": "execute_result",
          "data": {
            "text/plain": [
              "array([[0.84890122, 0.1808828 , 0.35920297, 0.73530437],\n",
              "       [0.32803384, 0.57990466, 0.54475782, 0.23499669],\n",
              "       [0.82304931, 0.70151701, 0.66828322, 0.26773201]])"
            ]
          },
          "metadata": {},
          "execution_count": 17
        }
      ]
    },
    {
      "cell_type": "code",
      "source": [
        "np.linspace(-1,1,10).reshape(5,2)#(lowerRange,upperRange,totalNumber)"
      ],
      "metadata": {
        "colab": {
          "base_uri": "https://localhost:8080/"
        },
        "id": "luvsfFoEn4Tt",
        "outputId": "e9601ce5-1df2-4ddd-8ab3-24660676a289"
      },
      "execution_count": null,
      "outputs": [
        {
          "output_type": "execute_result",
          "data": {
            "text/plain": [
              "array([[-1.        , -0.77777778],\n",
              "       [-0.55555556, -0.33333333],\n",
              "       [-0.11111111,  0.11111111],\n",
              "       [ 0.33333333,  0.55555556],\n",
              "       [ 0.77777778,  1.        ]])"
            ]
          },
          "metadata": {},
          "execution_count": 18
        }
      ]
    },
    {
      "cell_type": "code",
      "source": [
        "np.identity(4)"
      ],
      "metadata": {
        "colab": {
          "base_uri": "https://localhost:8080/"
        },
        "id": "yHuytgaFootP",
        "outputId": "e71ebdba-eabd-4f80-aa4a-6bbd4455a82f"
      },
      "execution_count": null,
      "outputs": [
        {
          "output_type": "execute_result",
          "data": {
            "text/plain": [
              "array([[1., 0., 0., 0.],\n",
              "       [0., 1., 0., 0.],\n",
              "       [0., 0., 1., 0.],\n",
              "       [0., 0., 0., 1.]])"
            ]
          },
          "metadata": {},
          "execution_count": 19
        }
      ]
    },
    {
      "cell_type": "markdown",
      "source": [
        "changing datatype\n"
      ],
      "metadata": {
        "id": "sQWQQ_HfwSZR"
      }
    },
    {
      "cell_type": "code",
      "source": [
        "a1.dtype"
      ],
      "metadata": {
        "colab": {
          "base_uri": "https://localhost:8080/"
        },
        "id": "yNBvAuQvpT1J",
        "outputId": "50cfde1e-31db-4a6b-9dfa-8dcca65e83f4"
      },
      "execution_count": null,
      "outputs": [
        {
          "output_type": "execute_result",
          "data": {
            "text/plain": [
              "dtype('int64')"
            ]
          },
          "metadata": {},
          "execution_count": 20
        }
      ]
    },
    {
      "cell_type": "code",
      "source": [
        "a1.astype(np.int32)\n",
        "# changing 64 bit to 32 bit for saving memory space"
      ],
      "metadata": {
        "colab": {
          "base_uri": "https://localhost:8080/"
        },
        "id": "EtkEATYCwijH",
        "outputId": "39cf2e20-a9bc-426d-e3a8-e5c5120abe3c"
      },
      "execution_count": null,
      "outputs": [
        {
          "output_type": "execute_result",
          "data": {
            "text/plain": [
              "array([[ 1,  2],\n",
              "       [ 3,  4],\n",
              "       [ 5,  6],\n",
              "       [ 7,  8],\n",
              "       [ 9, 10]], dtype=int32)"
            ]
          },
          "metadata": {},
          "execution_count": 21
        }
      ]
    },
    {
      "cell_type": "markdown",
      "source": [
        "Array Operations\n"
      ],
      "metadata": {
        "id": "eR8k2sD9xfl6"
      }
    },
    {
      "cell_type": "code",
      "source": [
        "a1=np.arange(12).reshape(3,4)\n",
        "a2=np.arange(12,24).reshape(3,4)\n",
        "\n",
        "\n",
        "a1*2\n",
        "a1+2\n",
        "a1**2"
      ],
      "metadata": {
        "colab": {
          "base_uri": "https://localhost:8080/"
        },
        "id": "6Lv6WCK9w47p",
        "outputId": "8cc6e168-0747-443d-f535-f4176bfac425"
      },
      "execution_count": null,
      "outputs": [
        {
          "output_type": "execute_result",
          "data": {
            "text/plain": [
              "array([[  0,   1,   4,   9],\n",
              "       [ 16,  25,  36,  49],\n",
              "       [ 64,  81, 100, 121]])"
            ]
          },
          "metadata": {},
          "execution_count": 22
        }
      ]
    },
    {
      "cell_type": "code",
      "source": [
        "a2>15"
      ],
      "metadata": {
        "colab": {
          "base_uri": "https://localhost:8080/"
        },
        "id": "QlZmaTSHyEYc",
        "outputId": "5e1c5ad3-e849-44fb-89c7-6dbf08bd0dc5"
      },
      "execution_count": null,
      "outputs": [
        {
          "output_type": "execute_result",
          "data": {
            "text/plain": [
              "array([[False, False, False, False],\n",
              "       [ True,  True,  True,  True],\n",
              "       [ True,  True,  True,  True]])"
            ]
          },
          "metadata": {},
          "execution_count": 23
        }
      ]
    },
    {
      "cell_type": "code",
      "source": [
        "#vector operation\n",
        "a1+a2\n",
        "a1*a2\n",
        "a1/a2"
      ],
      "metadata": {
        "colab": {
          "base_uri": "https://localhost:8080/"
        },
        "id": "zKuiuztjyVQC",
        "outputId": "9196c212-9a4d-458e-dfc9-5f4aa0f4966d"
      },
      "execution_count": null,
      "outputs": [
        {
          "output_type": "execute_result",
          "data": {
            "text/plain": [
              "array([[0.        , 0.07692308, 0.14285714, 0.2       ],\n",
              "       [0.25      , 0.29411765, 0.33333333, 0.36842105],\n",
              "       [0.4       , 0.42857143, 0.45454545, 0.47826087]])"
            ]
          },
          "metadata": {},
          "execution_count": 24
        }
      ]
    },
    {
      "cell_type": "code",
      "source": [
        "np.max(a1)\n",
        "np.min(a1)\n",
        "np.sum(a1)\n",
        "np.prod(a1)"
      ],
      "metadata": {
        "colab": {
          "base_uri": "https://localhost:8080/"
        },
        "id": "wd54d5txyym9",
        "outputId": "009821ac-885f-4599-eb6e-2fd1e95d0cf3"
      },
      "execution_count": null,
      "outputs": [
        {
          "output_type": "execute_result",
          "data": {
            "text/plain": [
              "0"
            ]
          },
          "metadata": {},
          "execution_count": 25
        }
      ]
    },
    {
      "cell_type": "code",
      "source": [
        "a1\n"
      ],
      "metadata": {
        "colab": {
          "base_uri": "https://localhost:8080/"
        },
        "id": "MiVvrauwzyIN",
        "outputId": "f9888bd0-8041-4c7a-b478-4504fcbc3adc"
      },
      "execution_count": null,
      "outputs": [
        {
          "output_type": "execute_result",
          "data": {
            "text/plain": [
              "array([[ 0,  1,  2,  3],\n",
              "       [ 4,  5,  6,  7],\n",
              "       [ 8,  9, 10, 11]])"
            ]
          },
          "metadata": {},
          "execution_count": 26
        }
      ]
    },
    {
      "cell_type": "code",
      "source": [
        "np.max(a1,axis=1)#max in every row\n",
        "#axis=0 for column and 1 for row"
      ],
      "metadata": {
        "colab": {
          "base_uri": "https://localhost:8080/"
        },
        "id": "mjctWYZWz54g",
        "outputId": "c17468d5-dab6-4599-dcc4-6dec0c8a947c"
      },
      "execution_count": null,
      "outputs": [
        {
          "output_type": "execute_result",
          "data": {
            "text/plain": [
              "array([ 3,  7, 11])"
            ]
          },
          "metadata": {},
          "execution_count": 27
        }
      ]
    },
    {
      "cell_type": "code",
      "source": [
        "np.mean(a1)# can add axis\n",
        "#median/mean/std/var"
      ],
      "metadata": {
        "colab": {
          "base_uri": "https://localhost:8080/"
        },
        "id": "RBgdBqQd0J5j",
        "outputId": "66231626-5df3-41a9-8ff1-fbf00d0239dd"
      },
      "execution_count": null,
      "outputs": [
        {
          "output_type": "execute_result",
          "data": {
            "text/plain": [
              "5.5"
            ]
          },
          "metadata": {},
          "execution_count": 28
        }
      ]
    },
    {
      "cell_type": "code",
      "source": [
        "#(3,4) (4,3) dot product possible\n",
        "# matrix will be 3cross3\n",
        "a1=np.random.random((3,4))\n",
        "a2=np.random.random((4,3))\n",
        "np.dot(a1,a2)"
      ],
      "metadata": {
        "colab": {
          "base_uri": "https://localhost:8080/"
        },
        "id": "jBSaCqjj0nYc",
        "outputId": "d20873d2-91b9-4812-e570-aec296c5b61a"
      },
      "execution_count": null,
      "outputs": [
        {
          "output_type": "execute_result",
          "data": {
            "text/plain": [
              "array([[1.69041123, 1.65690017, 1.18816126],\n",
              "       [1.44691907, 1.33779106, 0.93622994],\n",
              "       [1.28924763, 1.27311187, 0.77016355]])"
            ]
          },
          "metadata": {},
          "execution_count": 29
        }
      ]
    },
    {
      "cell_type": "code",
      "source": [
        "#log and exponents\n",
        "np.log(a1)\n",
        "np.exp(a1)"
      ],
      "metadata": {
        "colab": {
          "base_uri": "https://localhost:8080/"
        },
        "id": "R6aQmeFJ11RB",
        "outputId": "b347fc42-ed0e-4ad6-f929-2c8aab2e5603"
      },
      "execution_count": null,
      "outputs": [
        {
          "output_type": "execute_result",
          "data": {
            "text/plain": [
              "array([[2.29155243, 2.56819231, 2.51777281, 1.82281088],\n",
              "       [2.31320954, 1.70111154, 1.30193104, 2.37460112],\n",
              "       [1.54689393, 2.23416672, 1.55484516, 1.82338071]])"
            ]
          },
          "metadata": {},
          "execution_count": 30
        }
      ]
    },
    {
      "cell_type": "code",
      "source": [
        "#round/floor/ceil\n",
        "a1*100\n",
        "np.round(a1*100).astype(np.int32)"
      ],
      "metadata": {
        "colab": {
          "base_uri": "https://localhost:8080/"
        },
        "id": "3ixQ0DIT18i3",
        "outputId": "a9110900-d31c-495d-f929-2bfd247ca591"
      },
      "execution_count": null,
      "outputs": [
        {
          "output_type": "execute_result",
          "data": {
            "text/plain": [
              "array([[83, 94, 92, 60],\n",
              "       [84, 53, 26, 86],\n",
              "       [44, 80, 44, 60]], dtype=int32)"
            ]
          },
          "metadata": {},
          "execution_count": 31
        }
      ]
    },
    {
      "cell_type": "markdown",
      "source": [
        "Indexing and Slicing"
      ],
      "metadata": {
        "id": "DDRwD9wT2-mZ"
      }
    },
    {
      "cell_type": "code",
      "source": [
        "a1=np.arange(10)\n",
        "a2=np.arange(12).reshape(3,4)\n",
        "a3=np.arange(8).reshape(2,2,2)"
      ],
      "metadata": {
        "id": "oOGwegZT2hdX"
      },
      "execution_count": null,
      "outputs": []
    },
    {
      "cell_type": "code",
      "source": [
        "a1[-1]#last element\n",
        "\n"
      ],
      "metadata": {
        "id": "7C4jmUhX3Skk",
        "colab": {
          "base_uri": "https://localhost:8080/"
        },
        "outputId": "d1d21c56-4758-4f6b-e57a-87fafc9fa923"
      },
      "execution_count": null,
      "outputs": [
        {
          "output_type": "execute_result",
          "data": {
            "text/plain": [
              "9"
            ]
          },
          "metadata": {},
          "execution_count": 33
        }
      ]
    },
    {
      "cell_type": "code",
      "source": [
        "a2"
      ],
      "metadata": {
        "colab": {
          "base_uri": "https://localhost:8080/"
        },
        "id": "euYsCHWx3h4c",
        "outputId": "9226a065-b51e-4329-f073-382cf503c3f4"
      },
      "execution_count": null,
      "outputs": [
        {
          "output_type": "execute_result",
          "data": {
            "text/plain": [
              "array([[ 0,  1,  2,  3],\n",
              "       [ 4,  5,  6,  7],\n",
              "       [ 8,  9, 10, 11]])"
            ]
          },
          "metadata": {},
          "execution_count": 34
        }
      ]
    },
    {
      "cell_type": "code",
      "source": [
        "a2[1][2]\n",
        "a2[1,2]"
      ],
      "metadata": {
        "colab": {
          "base_uri": "https://localhost:8080/"
        },
        "id": "gQkNFSUU3k4G",
        "outputId": "dc058c8f-cc60-46bd-dc0a-1167f1b70cc8"
      },
      "execution_count": null,
      "outputs": [
        {
          "output_type": "execute_result",
          "data": {
            "text/plain": [
              "6"
            ]
          },
          "metadata": {},
          "execution_count": 35
        }
      ]
    },
    {
      "cell_type": "code",
      "source": [
        "a3"
      ],
      "metadata": {
        "colab": {
          "base_uri": "https://localhost:8080/"
        },
        "id": "vfyymHym3-rm",
        "outputId": "c0690081-466b-4278-987b-26d89f34ee2d"
      },
      "execution_count": null,
      "outputs": [
        {
          "output_type": "execute_result",
          "data": {
            "text/plain": [
              "array([[[0, 1],\n",
              "        [2, 3]],\n",
              "\n",
              "       [[4, 5],\n",
              "        [6, 7]]])"
            ]
          },
          "metadata": {},
          "execution_count": 36
        }
      ]
    },
    {
      "cell_type": "code",
      "source": [
        "a3[1,0,1]\n",
        "a3[1,1,0]"
      ],
      "metadata": {
        "colab": {
          "base_uri": "https://localhost:8080/"
        },
        "id": "Ub9P-UYF4Bg2",
        "outputId": "1486189d-4d90-43f1-dd4d-6bc36a9e63b8"
      },
      "execution_count": null,
      "outputs": [
        {
          "output_type": "execute_result",
          "data": {
            "text/plain": [
              "6"
            ]
          },
          "metadata": {},
          "execution_count": 37
        }
      ]
    },
    {
      "cell_type": "code",
      "source": [
        "#slicing\n",
        "a1"
      ],
      "metadata": {
        "colab": {
          "base_uri": "https://localhost:8080/"
        },
        "id": "dzGfNce14yjW",
        "outputId": "3d5d0d5c-bc46-461b-f61a-51a28aa26bee"
      },
      "execution_count": null,
      "outputs": [
        {
          "output_type": "execute_result",
          "data": {
            "text/plain": [
              "array([0, 1, 2, 3, 4, 5, 6, 7, 8, 9])"
            ]
          },
          "metadata": {},
          "execution_count": 38
        }
      ]
    },
    {
      "cell_type": "code",
      "source": [
        "a1[2:5]\n",
        "a1[2:5:2]"
      ],
      "metadata": {
        "colab": {
          "base_uri": "https://localhost:8080/"
        },
        "id": "q1BTNPoD5E0z",
        "outputId": "c9e2a737-30f8-4331-d300-a28c94044ac4"
      },
      "execution_count": null,
      "outputs": [
        {
          "output_type": "execute_result",
          "data": {
            "text/plain": [
              "array([2, 4])"
            ]
          },
          "metadata": {},
          "execution_count": 39
        }
      ]
    },
    {
      "cell_type": "code",
      "source": [
        "a2"
      ],
      "metadata": {
        "colab": {
          "base_uri": "https://localhost:8080/"
        },
        "id": "vgJzPPFJ5PsZ",
        "outputId": "e9fb17a8-99ea-44af-8c2d-fc66af6ed795"
      },
      "execution_count": null,
      "outputs": [
        {
          "output_type": "execute_result",
          "data": {
            "text/plain": [
              "array([[ 0,  1,  2,  3],\n",
              "       [ 4,  5,  6,  7],\n",
              "       [ 8,  9, 10, 11]])"
            ]
          },
          "metadata": {},
          "execution_count": 40
        }
      ]
    },
    {
      "cell_type": "code",
      "source": [
        "a2[0]\n",
        "a2[0:]\n",
        "a2[:,2]"
      ],
      "metadata": {
        "colab": {
          "base_uri": "https://localhost:8080/"
        },
        "id": "HL2iewZf5SVu",
        "outputId": "852f1040-aefe-4758-a326-571ae9f4e6f7"
      },
      "execution_count": null,
      "outputs": [
        {
          "output_type": "execute_result",
          "data": {
            "text/plain": [
              "array([ 2,  6, 10])"
            ]
          },
          "metadata": {},
          "execution_count": 41
        }
      ]
    },
    {
      "cell_type": "code",
      "source": [
        "a2[1:,1:3]"
      ],
      "metadata": {
        "colab": {
          "base_uri": "https://localhost:8080/"
        },
        "id": "oTfIhFrL5y20",
        "outputId": "7edd267b-ffb8-440a-cb76-f5a8bac3089f"
      },
      "execution_count": null,
      "outputs": [
        {
          "output_type": "execute_result",
          "data": {
            "text/plain": [
              "array([[ 5,  6],\n",
              "       [ 9, 10]])"
            ]
          },
          "metadata": {},
          "execution_count": 42
        }
      ]
    },
    {
      "cell_type": "code",
      "source": [
        "a2[::2,::3]"
      ],
      "metadata": {
        "colab": {
          "base_uri": "https://localhost:8080/"
        },
        "id": "jqF3859z5_RD",
        "outputId": "cb892737-d0ff-46a1-a298-d59c32b3449c"
      },
      "execution_count": null,
      "outputs": [
        {
          "output_type": "execute_result",
          "data": {
            "text/plain": [
              "array([[ 0,  3],\n",
              "       [ 8, 11]])"
            ]
          },
          "metadata": {},
          "execution_count": 43
        }
      ]
    },
    {
      "cell_type": "code",
      "source": [
        "a2[::2,1:2]"
      ],
      "metadata": {
        "colab": {
          "base_uri": "https://localhost:8080/"
        },
        "id": "VGp-Al_A6vQI",
        "outputId": "6cc9ead6-47f1-40d7-bce1-2e9f5a02aca1"
      },
      "execution_count": null,
      "outputs": [
        {
          "output_type": "execute_result",
          "data": {
            "text/plain": [
              "array([[1],\n",
              "       [9]])"
            ]
          },
          "metadata": {},
          "execution_count": 44
        }
      ]
    },
    {
      "cell_type": "code",
      "source": [
        "a2"
      ],
      "metadata": {
        "colab": {
          "base_uri": "https://localhost:8080/"
        },
        "id": "218U9zZ3VH7t",
        "outputId": "2003c5d9-709f-430d-b26b-97a590cd434d"
      },
      "execution_count": null,
      "outputs": [
        {
          "output_type": "execute_result",
          "data": {
            "text/plain": [
              "array([[ 0,  1,  2,  3],\n",
              "       [ 4,  5,  6,  7],\n",
              "       [ 8,  9, 10, 11]])"
            ]
          },
          "metadata": {},
          "execution_count": 45
        }
      ]
    },
    {
      "cell_type": "code",
      "source": [
        "a2[::2,1::2]"
      ],
      "metadata": {
        "colab": {
          "base_uri": "https://localhost:8080/"
        },
        "id": "T5Le5L_SZbiA",
        "outputId": "938b4ede-53a2-43ac-da86-cd63b38a31b7"
      },
      "execution_count": null,
      "outputs": [
        {
          "output_type": "execute_result",
          "data": {
            "text/plain": [
              "array([[ 1,  3],\n",
              "       [ 9, 11]])"
            ]
          },
          "metadata": {},
          "execution_count": 46
        }
      ]
    },
    {
      "cell_type": "code",
      "source": [
        "a2[1,::3]"
      ],
      "metadata": {
        "colab": {
          "base_uri": "https://localhost:8080/"
        },
        "id": "AnBLBlj0acgC",
        "outputId": "1f4941b8-8880-40d5-9292-ba4ca0c013ee"
      },
      "execution_count": null,
      "outputs": [
        {
          "output_type": "execute_result",
          "data": {
            "text/plain": [
              "array([4, 7])"
            ]
          },
          "metadata": {},
          "execution_count": 47
        }
      ]
    },
    {
      "cell_type": "code",
      "source": [
        "a2[:2,1:]"
      ],
      "metadata": {
        "colab": {
          "base_uri": "https://localhost:8080/"
        },
        "id": "1m1h-CRua8pk",
        "outputId": "862c74a5-9a78-47c2-d5b9-08285e88ee16"
      },
      "execution_count": null,
      "outputs": [
        {
          "output_type": "execute_result",
          "data": {
            "text/plain": [
              "array([[1, 2, 3],\n",
              "       [5, 6, 7]])"
            ]
          },
          "metadata": {},
          "execution_count": 48
        }
      ]
    },
    {
      "cell_type": "code",
      "source": [
        "a3"
      ],
      "metadata": {
        "colab": {
          "base_uri": "https://localhost:8080/"
        },
        "id": "b6iYfbYebmn-",
        "outputId": "80fb0cd5-6e78-45ce-871b-26762396c433"
      },
      "execution_count": null,
      "outputs": [
        {
          "output_type": "execute_result",
          "data": {
            "text/plain": [
              "array([[[0, 1],\n",
              "        [2, 3]],\n",
              "\n",
              "       [[4, 5],\n",
              "        [6, 7]]])"
            ]
          },
          "metadata": {},
          "execution_count": 49
        }
      ]
    },
    {
      "cell_type": "code",
      "source": [
        "a3=np.arange(27).reshape(3,3,3)\n",
        "a3"
      ],
      "metadata": {
        "colab": {
          "base_uri": "https://localhost:8080/"
        },
        "id": "drUfys71bqQJ",
        "outputId": "6c43dab6-2c5f-4180-f4c4-4342c241c6f4"
      },
      "execution_count": null,
      "outputs": [
        {
          "output_type": "execute_result",
          "data": {
            "text/plain": [
              "array([[[ 0,  1,  2],\n",
              "        [ 3,  4,  5],\n",
              "        [ 6,  7,  8]],\n",
              "\n",
              "       [[ 9, 10, 11],\n",
              "        [12, 13, 14],\n",
              "        [15, 16, 17]],\n",
              "\n",
              "       [[18, 19, 20],\n",
              "        [21, 22, 23],\n",
              "        [24, 25, 26]]])"
            ]
          },
          "metadata": {},
          "execution_count": 50
        }
      ]
    },
    {
      "cell_type": "code",
      "source": [
        "a3[1]"
      ],
      "metadata": {
        "colab": {
          "base_uri": "https://localhost:8080/"
        },
        "id": "SJRDCQvxb1_t",
        "outputId": "da080566-9c8c-4019-a10e-fea728b212e4"
      },
      "execution_count": null,
      "outputs": [
        {
          "output_type": "execute_result",
          "data": {
            "text/plain": [
              "array([[ 9, 10, 11],\n",
              "       [12, 13, 14],\n",
              "       [15, 16, 17]])"
            ]
          },
          "metadata": {},
          "execution_count": 51
        }
      ]
    },
    {
      "cell_type": "code",
      "source": [
        "a3[::2]"
      ],
      "metadata": {
        "colab": {
          "base_uri": "https://localhost:8080/"
        },
        "id": "En0qxGtbcGUw",
        "outputId": "e0ce854b-0323-4272-f9cb-d3d41ff31e25"
      },
      "execution_count": null,
      "outputs": [
        {
          "output_type": "execute_result",
          "data": {
            "text/plain": [
              "array([[[ 0,  1,  2],\n",
              "        [ 3,  4,  5],\n",
              "        [ 6,  7,  8]],\n",
              "\n",
              "       [[18, 19, 20],\n",
              "        [21, 22, 23],\n",
              "        [24, 25, 26]]])"
            ]
          },
          "metadata": {},
          "execution_count": 52
        }
      ]
    },
    {
      "cell_type": "code",
      "source": [
        "a3[0,1,:]"
      ],
      "metadata": {
        "colab": {
          "base_uri": "https://localhost:8080/"
        },
        "id": "leqD9g6wcNDv",
        "outputId": "56773ecf-5970-4dbc-92b7-16c6f7122070"
      },
      "execution_count": null,
      "outputs": [
        {
          "output_type": "execute_result",
          "data": {
            "text/plain": [
              "array([3, 4, 5])"
            ]
          },
          "metadata": {},
          "execution_count": 53
        }
      ]
    },
    {
      "cell_type": "code",
      "source": [
        "a3[1,:,1]"
      ],
      "metadata": {
        "colab": {
          "base_uri": "https://localhost:8080/"
        },
        "id": "8GMiOI9schh6",
        "outputId": "9a0d4b91-7ebe-45f1-9b32-6e906648aed1"
      },
      "execution_count": null,
      "outputs": [
        {
          "output_type": "execute_result",
          "data": {
            "text/plain": [
              "array([10, 13, 16])"
            ]
          },
          "metadata": {},
          "execution_count": 54
        }
      ]
    },
    {
      "cell_type": "code",
      "source": [
        "a3[2,1:,1:]"
      ],
      "metadata": {
        "colab": {
          "base_uri": "https://localhost:8080/"
        },
        "id": "LWUu3VNacmYd",
        "outputId": "7b3a6905-e751-4391-a5a1-13d724c79bbb"
      },
      "execution_count": null,
      "outputs": [
        {
          "output_type": "execute_result",
          "data": {
            "text/plain": [
              "array([[22, 23],\n",
              "       [25, 26]])"
            ]
          },
          "metadata": {},
          "execution_count": 55
        }
      ]
    },
    {
      "cell_type": "code",
      "source": [
        "a3[::2,0,::2]"
      ],
      "metadata": {
        "colab": {
          "base_uri": "https://localhost:8080/"
        },
        "id": "uSYyn_PDc2cn",
        "outputId": "fff1ff0d-d01d-4d65-8c0d-1582356b6f1a"
      },
      "execution_count": null,
      "outputs": [
        {
          "output_type": "execute_result",
          "data": {
            "text/plain": [
              "array([[ 0,  2],\n",
              "       [18, 20]])"
            ]
          },
          "metadata": {},
          "execution_count": 56
        }
      ]
    },
    {
      "cell_type": "markdown",
      "source": [
        "Iterating"
      ],
      "metadata": {
        "id": "6MIn52kPdv6c"
      }
    },
    {
      "cell_type": "code",
      "source": [
        "a1\n",
        "for i in a1:\n",
        "  print(i)"
      ],
      "metadata": {
        "colab": {
          "base_uri": "https://localhost:8080/"
        },
        "id": "wq7rebZAd2jG",
        "outputId": "cfc17aae-04d9-4e81-90d0-649a5c17a2c4"
      },
      "execution_count": null,
      "outputs": [
        {
          "output_type": "stream",
          "name": "stdout",
          "text": [
            "0\n",
            "1\n",
            "2\n",
            "3\n",
            "4\n",
            "5\n",
            "6\n",
            "7\n",
            "8\n",
            "9\n"
          ]
        }
      ]
    },
    {
      "cell_type": "code",
      "source": [
        "a2\n",
        "for i in a2:\n",
        "  for j in i:\n",
        "    print(j)"
      ],
      "metadata": {
        "colab": {
          "base_uri": "https://localhost:8080/"
        },
        "id": "pCU3dBrDd6FL",
        "outputId": "419ef6b6-ff7a-4c6d-ebc7-e64d10ecb494"
      },
      "execution_count": null,
      "outputs": [
        {
          "output_type": "stream",
          "name": "stdout",
          "text": [
            "0\n",
            "1\n",
            "2\n",
            "3\n",
            "4\n",
            "5\n",
            "6\n",
            "7\n",
            "8\n",
            "9\n",
            "10\n",
            "11\n"
          ]
        }
      ]
    },
    {
      "cell_type": "code",
      "source": [
        "a3"
      ],
      "metadata": {
        "colab": {
          "base_uri": "https://localhost:8080/"
        },
        "id": "MU-7bvwTd_IM",
        "outputId": "ada85c18-f3b4-46a0-eeba-63f28f100993"
      },
      "execution_count": null,
      "outputs": [
        {
          "output_type": "execute_result",
          "data": {
            "text/plain": [
              "array([[[ 0,  1,  2],\n",
              "        [ 3,  4,  5],\n",
              "        [ 6,  7,  8]],\n",
              "\n",
              "       [[ 9, 10, 11],\n",
              "        [12, 13, 14],\n",
              "        [15, 16, 17]],\n",
              "\n",
              "       [[18, 19, 20],\n",
              "        [21, 22, 23],\n",
              "        [24, 25, 26]]])"
            ]
          },
          "metadata": {},
          "execution_count": 59
        }
      ]
    },
    {
      "cell_type": "code",
      "source": [
        "for i in np.nditer(a3):\n",
        "  print(i)"
      ],
      "metadata": {
        "colab": {
          "base_uri": "https://localhost:8080/"
        },
        "id": "Z2UGFyeneVtn",
        "outputId": "60cf999c-dd7a-4b3f-90d3-c00938ad72a9"
      },
      "execution_count": null,
      "outputs": [
        {
          "output_type": "stream",
          "name": "stdout",
          "text": [
            "0\n",
            "1\n",
            "2\n",
            "3\n",
            "4\n",
            "5\n",
            "6\n",
            "7\n",
            "8\n",
            "9\n",
            "10\n",
            "11\n",
            "12\n",
            "13\n",
            "14\n",
            "15\n",
            "16\n",
            "17\n",
            "18\n",
            "19\n",
            "20\n",
            "21\n",
            "22\n",
            "23\n",
            "24\n",
            "25\n",
            "26\n"
          ]
        }
      ]
    },
    {
      "cell_type": "markdown",
      "source": [
        "Reshaping"
      ],
      "metadata": {
        "id": "Ury_0q2ye1Qo"
      }
    },
    {
      "cell_type": "code",
      "source": [
        "np.transpose(a2)"
      ],
      "metadata": {
        "colab": {
          "base_uri": "https://localhost:8080/"
        },
        "id": "YYtQWY8Ge3g4",
        "outputId": "9170aa6a-347a-4db0-deaa-ff9b2a5303f2"
      },
      "execution_count": null,
      "outputs": [
        {
          "output_type": "execute_result",
          "data": {
            "text/plain": [
              "array([[ 0,  4,  8],\n",
              "       [ 1,  5,  9],\n",
              "       [ 2,  6, 10],\n",
              "       [ 3,  7, 11]])"
            ]
          },
          "metadata": {},
          "execution_count": 61
        }
      ]
    },
    {
      "cell_type": "code",
      "source": [
        "a2.T"
      ],
      "metadata": {
        "colab": {
          "base_uri": "https://localhost:8080/"
        },
        "id": "E8hur4BVfGqS",
        "outputId": "13111b82-6170-40f3-90d0-2f5fe67ebe1f"
      },
      "execution_count": null,
      "outputs": [
        {
          "output_type": "execute_result",
          "data": {
            "text/plain": [
              "array([[ 0,  4,  8],\n",
              "       [ 1,  5,  9],\n",
              "       [ 2,  6, 10],\n",
              "       [ 3,  7, 11]])"
            ]
          },
          "metadata": {},
          "execution_count": 62
        }
      ]
    },
    {
      "cell_type": "code",
      "source": [
        "#ravel=converts any dimensional array to one dimensional"
      ],
      "metadata": {
        "id": "Dzqc8h72fKbz"
      },
      "execution_count": null,
      "outputs": []
    },
    {
      "cell_type": "code",
      "source": [
        "a2.ravel()"
      ],
      "metadata": {
        "colab": {
          "base_uri": "https://localhost:8080/"
        },
        "id": "1RXtEcVGfRgQ",
        "outputId": "c1fa5a4a-e9fd-4061-885f-c5793a4a32fe"
      },
      "execution_count": null,
      "outputs": [
        {
          "output_type": "execute_result",
          "data": {
            "text/plain": [
              "array([ 0,  1,  2,  3,  4,  5,  6,  7,  8,  9, 10, 11])"
            ]
          },
          "metadata": {},
          "execution_count": 64
        }
      ]
    },
    {
      "cell_type": "code",
      "source": [
        "a3.ravel()"
      ],
      "metadata": {
        "colab": {
          "base_uri": "https://localhost:8080/"
        },
        "id": "ygeJXz4yfabL",
        "outputId": "067e912a-1d81-4c30-8a15-fdc3d93be93f"
      },
      "execution_count": null,
      "outputs": [
        {
          "output_type": "execute_result",
          "data": {
            "text/plain": [
              "array([ 0,  1,  2,  3,  4,  5,  6,  7,  8,  9, 10, 11, 12, 13, 14, 15, 16,\n",
              "       17, 18, 19, 20, 21, 22, 23, 24, 25, 26])"
            ]
          },
          "metadata": {},
          "execution_count": 65
        }
      ]
    },
    {
      "cell_type": "markdown",
      "source": [
        "Stacking"
      ],
      "metadata": {
        "id": "BK1ZbrmXfrdo"
      }
    },
    {
      "cell_type": "code",
      "source": [
        "#horizontal stacking\n",
        "a4=np.arange(12).reshape(3,4)\n",
        "a5=np.arange(12,24).reshape(3,4)\n",
        "a5"
      ],
      "metadata": {
        "colab": {
          "base_uri": "https://localhost:8080/"
        },
        "id": "4O5BZSYHftsP",
        "outputId": "ccb7eb6d-19ca-45fa-8700-31848131cdb6"
      },
      "execution_count": null,
      "outputs": [
        {
          "output_type": "execute_result",
          "data": {
            "text/plain": [
              "array([[12, 13, 14, 15],\n",
              "       [16, 17, 18, 19],\n",
              "       [20, 21, 22, 23]])"
            ]
          },
          "metadata": {},
          "execution_count": 66
        }
      ]
    },
    {
      "cell_type": "code",
      "source": [
        "np.hstack((a4,a5,a4))"
      ],
      "metadata": {
        "colab": {
          "base_uri": "https://localhost:8080/"
        },
        "id": "D3z-xuO2gjVT",
        "outputId": "f594d02f-b10f-4c24-b95c-2c01a44d87d1"
      },
      "execution_count": null,
      "outputs": [
        {
          "output_type": "execute_result",
          "data": {
            "text/plain": [
              "array([[ 0,  1,  2,  3, 12, 13, 14, 15,  0,  1,  2,  3],\n",
              "       [ 4,  5,  6,  7, 16, 17, 18, 19,  4,  5,  6,  7],\n",
              "       [ 8,  9, 10, 11, 20, 21, 22, 23,  8,  9, 10, 11]])"
            ]
          },
          "metadata": {},
          "execution_count": 67
        }
      ]
    },
    {
      "cell_type": "code",
      "source": [
        "#vertical stacking\n",
        "np.vstack((a4,a5))"
      ],
      "metadata": {
        "colab": {
          "base_uri": "https://localhost:8080/"
        },
        "id": "VZEsqKFygxle",
        "outputId": "9dec712b-3d65-422f-8fb0-21e1f619e361"
      },
      "execution_count": null,
      "outputs": [
        {
          "output_type": "execute_result",
          "data": {
            "text/plain": [
              "array([[ 0,  1,  2,  3],\n",
              "       [ 4,  5,  6,  7],\n",
              "       [ 8,  9, 10, 11],\n",
              "       [12, 13, 14, 15],\n",
              "       [16, 17, 18, 19],\n",
              "       [20, 21, 22, 23]])"
            ]
          },
          "metadata": {},
          "execution_count": 68
        }
      ]
    },
    {
      "cell_type": "markdown",
      "source": [
        "Splitting"
      ],
      "metadata": {
        "id": "k0GTGYPjhD6m"
      }
    },
    {
      "cell_type": "code",
      "source": [
        "#opposite of stacking\n"
      ],
      "metadata": {
        "id": "1Ihj8TSfhFzS"
      },
      "execution_count": null,
      "outputs": []
    },
    {
      "cell_type": "code",
      "source": [
        "a4"
      ],
      "metadata": {
        "colab": {
          "base_uri": "https://localhost:8080/"
        },
        "id": "w0deVgC1hVlk",
        "outputId": "14c8f8c3-ad4f-4140-f800-a9466477e284"
      },
      "execution_count": null,
      "outputs": [
        {
          "output_type": "execute_result",
          "data": {
            "text/plain": [
              "array([[ 0,  1,  2,  3],\n",
              "       [ 4,  5,  6,  7],\n",
              "       [ 8,  9, 10, 11]])"
            ]
          },
          "metadata": {},
          "execution_count": 70
        }
      ]
    },
    {
      "cell_type": "code",
      "source": [
        "np.hsplit(a4,2)"
      ],
      "metadata": {
        "colab": {
          "base_uri": "https://localhost:8080/"
        },
        "id": "x04Rkmo_hn1z",
        "outputId": "facb1acb-27a9-4d48-8c65-465a6fd2230a"
      },
      "execution_count": null,
      "outputs": [
        {
          "output_type": "execute_result",
          "data": {
            "text/plain": [
              "[array([[0, 1],\n",
              "        [4, 5],\n",
              "        [8, 9]]),\n",
              " array([[ 2,  3],\n",
              "        [ 6,  7],\n",
              "        [10, 11]])]"
            ]
          },
          "metadata": {},
          "execution_count": 71
        }
      ]
    },
    {
      "cell_type": "code",
      "source": [
        "a5"
      ],
      "metadata": {
        "colab": {
          "base_uri": "https://localhost:8080/"
        },
        "id": "J1AcNBRZh4ms",
        "outputId": "760f551a-c402-4c5c-d205-7dddd9f5cabd"
      },
      "execution_count": null,
      "outputs": [
        {
          "output_type": "execute_result",
          "data": {
            "text/plain": [
              "array([[12, 13, 14, 15],\n",
              "       [16, 17, 18, 19],\n",
              "       [20, 21, 22, 23]])"
            ]
          },
          "metadata": {},
          "execution_count": 72
        }
      ]
    },
    {
      "cell_type": "code",
      "source": [
        "np.vsplit(a5,3)"
      ],
      "metadata": {
        "colab": {
          "base_uri": "https://localhost:8080/"
        },
        "id": "ezMrLFi1h-cj",
        "outputId": "434bcaf9-98e6-4b4a-cb65-73f33651dabc"
      },
      "execution_count": null,
      "outputs": [
        {
          "output_type": "execute_result",
          "data": {
            "text/plain": [
              "[array([[12, 13, 14, 15]]),\n",
              " array([[16, 17, 18, 19]]),\n",
              " array([[20, 21, 22, 23]])]"
            ]
          },
          "metadata": {},
          "execution_count": 73
        }
      ]
    },
    {
      "cell_type": "code",
      "source": [
        "#doing by python list:\n",
        "a=[i for i in range(10000000)]\n",
        "b=[i for i in range(10000000,20000000)]\n",
        "c=[]\n",
        "import time\n",
        "start=time.time()\n",
        "for i in range(len(a)):\n",
        "  c.append(a[i]+b[i])\n",
        "\n",
        "print(time.time()-start)\n",
        "#it is a dynamic array and referential array"
      ],
      "metadata": {
        "colab": {
          "base_uri": "https://localhost:8080/"
        },
        "id": "KaF8BVl6iTvX",
        "outputId": "56446f83-ad6d-4891-c243-7380e60b4730"
      },
      "execution_count": null,
      "outputs": [
        {
          "output_type": "stream",
          "name": "stdout",
          "text": [
            "6.019958257675171\n"
          ]
        }
      ]
    },
    {
      "cell_type": "code",
      "source": [
        "import sys\n",
        "sys.getsizeof(a)\n",
        "#gives the number of bytes"
      ],
      "metadata": {
        "colab": {
          "base_uri": "https://localhost:8080/"
        },
        "id": "6-dkWVGdmOw4",
        "outputId": "465e84ea-92bf-49cf-e80b-15bde4016d00"
      },
      "execution_count": null,
      "outputs": [
        {
          "output_type": "execute_result",
          "data": {
            "text/plain": [
              "89095160"
            ]
          },
          "metadata": {},
          "execution_count": 75
        }
      ]
    },
    {
      "cell_type": "code",
      "source": [
        "#doing by numpy\n",
        "import numpy as np\n",
        "a=np.arange(10000000)\n",
        "b=np.arange(10000000,20000000)\n",
        "start=time.time()\n",
        "c=a+b\n",
        "print(time.time()-start)\n",
        "#numpy use static array and not a referential array"
      ],
      "metadata": {
        "colab": {
          "base_uri": "https://localhost:8080/"
        },
        "id": "N_Xb62ePkiq6",
        "outputId": "c7ea226f-bbd5-4c80-b309-e76beedf9587"
      },
      "execution_count": null,
      "outputs": [
        {
          "output_type": "stream",
          "name": "stdout",
          "text": [
            "0.05196809768676758\n"
          ]
        }
      ]
    },
    {
      "cell_type": "code",
      "source": [
        "sys.getsizeof(a)"
      ],
      "metadata": {
        "colab": {
          "base_uri": "https://localhost:8080/"
        },
        "id": "lrdp2ZzwlRu-",
        "outputId": "045644b1-2245-41d4-d797-46f296d28686"
      },
      "execution_count": null,
      "outputs": [
        {
          "output_type": "execute_result",
          "data": {
            "text/plain": [
              "80000112"
            ]
          },
          "metadata": {},
          "execution_count": 77
        }
      ]
    },
    {
      "cell_type": "code",
      "source": [
        "a=np.arange(10000000,dtype=np.int32)\n",
        "sys.getsizeof(a)"
      ],
      "metadata": {
        "colab": {
          "base_uri": "https://localhost:8080/"
        },
        "id": "ZCiZXyeimvjX",
        "outputId": "a576fa31-532e-4763-c9b7-24af6c619fe7"
      },
      "execution_count": null,
      "outputs": [
        {
          "output_type": "execute_result",
          "data": {
            "text/plain": [
              "40000112"
            ]
          },
          "metadata": {},
          "execution_count": 78
        }
      ]
    },
    {
      "cell_type": "markdown",
      "source": [
        "Advanced Indexing"
      ],
      "metadata": {
        "id": "OKqgq4zXnetu"
      }
    },
    {
      "cell_type": "code",
      "source": [
        "a=np.arange(12).reshape(4,3)\n",
        "a"
      ],
      "metadata": {
        "colab": {
          "base_uri": "https://localhost:8080/"
        },
        "id": "NY43i2LmnjEK",
        "outputId": "a256dca4-775d-48ce-eee6-7396816fcf91"
      },
      "execution_count": null,
      "outputs": [
        {
          "output_type": "execute_result",
          "data": {
            "text/plain": [
              "array([[ 0,  1,  2],\n",
              "       [ 3,  4,  5],\n",
              "       [ 6,  7,  8],\n",
              "       [ 9, 10, 11]])"
            ]
          },
          "metadata": {},
          "execution_count": 79
        }
      ]
    },
    {
      "cell_type": "code",
      "source": [
        "#fancy indexing\n",
        "\n",
        "a[[0,2,3]]"
      ],
      "metadata": {
        "colab": {
          "base_uri": "https://localhost:8080/"
        },
        "id": "2eK81JBIokVK",
        "outputId": "fc778d0b-66a0-40f8-deab-1df738ded172"
      },
      "execution_count": null,
      "outputs": [
        {
          "output_type": "execute_result",
          "data": {
            "text/plain": [
              "array([[ 0,  1,  2],\n",
              "       [ 6,  7,  8],\n",
              "       [ 9, 10, 11]])"
            ]
          },
          "metadata": {},
          "execution_count": 80
        }
      ]
    },
    {
      "cell_type": "code",
      "source": [
        "b=np.arange(24).reshape(6,4)\n",
        "b"
      ],
      "metadata": {
        "colab": {
          "base_uri": "https://localhost:8080/"
        },
        "id": "dxqpwSXwpZ6-",
        "outputId": "572995d6-ca87-430d-b3fc-bb04f6ebdbfc"
      },
      "execution_count": null,
      "outputs": [
        {
          "output_type": "execute_result",
          "data": {
            "text/plain": [
              "array([[ 0,  1,  2,  3],\n",
              "       [ 4,  5,  6,  7],\n",
              "       [ 8,  9, 10, 11],\n",
              "       [12, 13, 14, 15],\n",
              "       [16, 17, 18, 19],\n",
              "       [20, 21, 22, 23]])"
            ]
          },
          "metadata": {},
          "execution_count": 81
        }
      ]
    },
    {
      "cell_type": "code",
      "source": [
        "b[[0,2,3,5]]"
      ],
      "metadata": {
        "colab": {
          "base_uri": "https://localhost:8080/"
        },
        "id": "wHs4hVJgpkQD",
        "outputId": "326fcbf9-572e-4676-db44-ff02f923f9c4"
      },
      "execution_count": null,
      "outputs": [
        {
          "output_type": "execute_result",
          "data": {
            "text/plain": [
              "array([[ 0,  1,  2,  3],\n",
              "       [ 8,  9, 10, 11],\n",
              "       [12, 13, 14, 15],\n",
              "       [20, 21, 22, 23]])"
            ]
          },
          "metadata": {},
          "execution_count": 82
        }
      ]
    },
    {
      "cell_type": "code",
      "source": [
        "b[:,[0,2,3]]"
      ],
      "metadata": {
        "colab": {
          "base_uri": "https://localhost:8080/"
        },
        "id": "v8IgqKdppo8G",
        "outputId": "3863169e-e4a8-4725-d097-7dfaf3a421f5"
      },
      "execution_count": null,
      "outputs": [
        {
          "output_type": "execute_result",
          "data": {
            "text/plain": [
              "array([[ 0,  2,  3],\n",
              "       [ 4,  6,  7],\n",
              "       [ 8, 10, 11],\n",
              "       [12, 14, 15],\n",
              "       [16, 18, 19],\n",
              "       [20, 22, 23]])"
            ]
          },
          "metadata": {},
          "execution_count": 83
        }
      ]
    },
    {
      "cell_type": "code",
      "source": [
        "#boolean indexing\n",
        "a=np.random.randint(1,100,24).reshape(6,4)\n",
        "a"
      ],
      "metadata": {
        "colab": {
          "base_uri": "https://localhost:8080/"
        },
        "id": "e7D6YfVdp5lN",
        "outputId": "b8fcd698-a812-4bef-ac52-e7e3d4f0fcb1"
      },
      "execution_count": null,
      "outputs": [
        {
          "output_type": "execute_result",
          "data": {
            "text/plain": [
              "array([[24, 78, 50,  1],\n",
              "       [22, 30, 72, 61],\n",
              "       [87, 73,  1, 95],\n",
              "       [70,  2, 73, 14],\n",
              "       [30,  4, 72, 62],\n",
              "       [50, 13, 73, 74]])"
            ]
          },
          "metadata": {},
          "execution_count": 84
        }
      ]
    },
    {
      "cell_type": "code",
      "source": [
        "a[a>50]"
      ],
      "metadata": {
        "colab": {
          "base_uri": "https://localhost:8080/"
        },
        "id": "Qk-Opri2qREo",
        "outputId": "78fa864c-10b3-41c7-933a-fffe8400b4da"
      },
      "execution_count": null,
      "outputs": [
        {
          "output_type": "execute_result",
          "data": {
            "text/plain": [
              "array([78, 72, 61, 87, 73, 95, 70, 73, 72, 62, 73, 74])"
            ]
          },
          "metadata": {},
          "execution_count": 85
        }
      ]
    },
    {
      "cell_type": "code",
      "source": [
        "#finding even numbers using boolean indexing\n",
        "a[a%2==0]"
      ],
      "metadata": {
        "colab": {
          "base_uri": "https://localhost:8080/"
        },
        "id": "pYSOC6HMrSYd",
        "outputId": "42937fa7-3658-4d1f-f2a7-f0ac5ac77cf7"
      },
      "execution_count": null,
      "outputs": [
        {
          "output_type": "execute_result",
          "data": {
            "text/plain": [
              "array([24, 78, 50, 22, 30, 72, 70,  2, 14, 30,  4, 72, 62, 50, 74])"
            ]
          },
          "metadata": {},
          "execution_count": 86
        }
      ]
    },
    {
      "cell_type": "code",
      "source": [
        "a[(a>50) & (a%2==0)]"
      ],
      "metadata": {
        "colab": {
          "base_uri": "https://localhost:8080/"
        },
        "id": "JJWQGSobr2IX",
        "outputId": "727323b8-a99a-47d7-9878-0a2d6daf3d4b"
      },
      "execution_count": null,
      "outputs": [
        {
          "output_type": "execute_result",
          "data": {
            "text/plain": [
              "array([78, 72, 70, 72, 62, 74])"
            ]
          },
          "metadata": {},
          "execution_count": 87
        }
      ]
    },
    {
      "cell_type": "code",
      "source": [
        "a[~(a%7==0)]\n",
        "a[a%7!=0]"
      ],
      "metadata": {
        "colab": {
          "base_uri": "https://localhost:8080/"
        },
        "id": "9G7wL2mCsEIi",
        "outputId": "34027793-2989-4059-da32-fb033b0e759d"
      },
      "execution_count": null,
      "outputs": [
        {
          "output_type": "execute_result",
          "data": {
            "text/plain": [
              "array([24, 78, 50,  1, 22, 30, 72, 61, 87, 73,  1, 95,  2, 73, 30,  4, 72,\n",
              "       62, 50, 13, 73, 74])"
            ]
          },
          "metadata": {},
          "execution_count": 88
        }
      ]
    },
    {
      "cell_type": "markdown",
      "source": [
        "BroadCasting\n"
      ],
      "metadata": {
        "id": "qKJgzOWEsQ0K"
      }
    },
    {
      "cell_type": "code",
      "source": [
        "a=np.arange(6).reshape(2,3)\n",
        "b=np.arange(6,12).reshape(2,3)\n",
        "print(a+b)"
      ],
      "metadata": {
        "colab": {
          "base_uri": "https://localhost:8080/"
        },
        "id": "buzz-t7zsTYg",
        "outputId": "ef9e5779-8bb1-4642-bb00-36726407e69c"
      },
      "execution_count": null,
      "outputs": [
        {
          "output_type": "stream",
          "name": "stdout",
          "text": [
            "[[ 6  8 10]\n",
            " [12 14 16]]\n"
          ]
        }
      ]
    },
    {
      "cell_type": "code",
      "source": [
        "a=np.arange(6).reshape(2,3)\n",
        "b=np.arange(3).reshape(1,3)\n",
        "\n",
        "print(a)\n",
        "print(b)\n",
        "print(a+b)"
      ],
      "metadata": {
        "colab": {
          "base_uri": "https://localhost:8080/"
        },
        "id": "xzQ5nbskufOe",
        "outputId": "9624206b-da6f-47b5-e094-300936009f5e"
      },
      "execution_count": null,
      "outputs": [
        {
          "output_type": "stream",
          "name": "stdout",
          "text": [
            "[[0 1 2]\n",
            " [3 4 5]]\n",
            "[[0 1 2]]\n",
            "[[0 2 4]\n",
            " [3 5 7]]\n"
          ]
        }
      ]
    },
    {
      "cell_type": "code",
      "source": [],
      "metadata": {
        "id": "o2enYtIlvevk"
      },
      "execution_count": null,
      "outputs": []
    },
    {
      "cell_type": "markdown",
      "source": [
        "Working with mathematical formula"
      ],
      "metadata": {
        "id": "pm2t-9eAorAG"
      }
    },
    {
      "cell_type": "code",
      "source": [
        "a=np.arange(10)\n",
        "np.sin(a)"
      ],
      "metadata": {
        "colab": {
          "base_uri": "https://localhost:8080/"
        },
        "id": "pyUjM-bXou_1",
        "outputId": "88887ab8-cfbf-4d88-ad8d-7b4aa9677d10"
      },
      "execution_count": null,
      "outputs": [
        {
          "output_type": "execute_result",
          "data": {
            "text/plain": [
              "array([ 0.        ,  0.84147098,  0.90929743,  0.14112001, -0.7568025 ,\n",
              "       -0.95892427, -0.2794155 ,  0.6569866 ,  0.98935825,  0.41211849])"
            ]
          },
          "metadata": {},
          "execution_count": 91
        }
      ]
    },
    {
      "cell_type": "code",
      "source": [
        "#sigmoid\n",
        "def sigmoid(array):\n",
        "  return 1/(1+np.exp(-array))\n",
        "\n",
        "a=np.arange(10)\n",
        "sigmoid(a)"
      ],
      "metadata": {
        "colab": {
          "base_uri": "https://localhost:8080/"
        },
        "id": "WFYOsVEkpS3U",
        "outputId": "952905c0-d0d0-4e7f-a9f6-49f37efd4323"
      },
      "execution_count": null,
      "outputs": [
        {
          "output_type": "execute_result",
          "data": {
            "text/plain": [
              "array([0.5       , 0.73105858, 0.88079708, 0.95257413, 0.98201379,\n",
              "       0.99330715, 0.99752738, 0.99908895, 0.99966465, 0.99987661])"
            ]
          },
          "metadata": {},
          "execution_count": 92
        }
      ]
    },
    {
      "cell_type": "code",
      "source": [
        "#mean squared error\n",
        "actual=np.random.randint(1,50,25)\n",
        "predicted=np.random.randint(1,50,25)\n",
        "\n",
        "def  mse(actual,predicted):\n",
        "  return np.mean((actual-predicted)**2)\n",
        "\n",
        "mse(actual,predicted)\n"
      ],
      "metadata": {
        "colab": {
          "base_uri": "https://localhost:8080/"
        },
        "id": "X4zTbywJp2p7",
        "outputId": "5496b1bb-64be-44ab-b57f-56d5cd91cdb9"
      },
      "execution_count": null,
      "outputs": [
        {
          "output_type": "execute_result",
          "data": {
            "text/plain": [
              "445.32"
            ]
          },
          "metadata": {},
          "execution_count": 93
        }
      ]
    },
    {
      "cell_type": "code",
      "source": [
        "## dealing with missing values"
      ],
      "metadata": {
        "id": "687S4IIzsK8I"
      },
      "execution_count": null,
      "outputs": []
    },
    {
      "cell_type": "code",
      "source": [
        "a=np.array([1,2,3,4,np.nan,6])\n",
        "a"
      ],
      "metadata": {
        "colab": {
          "base_uri": "https://localhost:8080/"
        },
        "id": "mdhKkrVztDKu",
        "outputId": "ace93277-3b56-44c8-ea4b-09312beef708"
      },
      "execution_count": null,
      "outputs": [
        {
          "output_type": "execute_result",
          "data": {
            "text/plain": [
              "array([ 1.,  2.,  3.,  4., nan,  6.])"
            ]
          },
          "metadata": {},
          "execution_count": 95
        }
      ]
    },
    {
      "cell_type": "code",
      "source": [
        "a[~(np.isnan(a))]"
      ],
      "metadata": {
        "colab": {
          "base_uri": "https://localhost:8080/"
        },
        "id": "H3gaR4XntkIf",
        "outputId": "ff6eb26f-2243-4378-8fce-32a6dea0608d"
      },
      "execution_count": null,
      "outputs": [
        {
          "output_type": "execute_result",
          "data": {
            "text/plain": [
              "array([1., 2., 3., 4., 6.])"
            ]
          },
          "metadata": {},
          "execution_count": 96
        }
      ]
    },
    {
      "cell_type": "markdown",
      "source": [
        "Plotting graph"
      ],
      "metadata": {
        "id": "bq3tlipBug6E"
      }
    },
    {
      "cell_type": "code",
      "source": [
        "x=np.linspace(-10,10,100)\n",
        "x"
      ],
      "metadata": {
        "colab": {
          "base_uri": "https://localhost:8080/"
        },
        "id": "3jzDCojyui1h",
        "outputId": "908743cc-b768-4126-c445-c374a5d998f7"
      },
      "execution_count": null,
      "outputs": [
        {
          "output_type": "execute_result",
          "data": {
            "text/plain": [
              "array([-10.        ,  -9.7979798 ,  -9.5959596 ,  -9.39393939,\n",
              "        -9.19191919,  -8.98989899,  -8.78787879,  -8.58585859,\n",
              "        -8.38383838,  -8.18181818,  -7.97979798,  -7.77777778,\n",
              "        -7.57575758,  -7.37373737,  -7.17171717,  -6.96969697,\n",
              "        -6.76767677,  -6.56565657,  -6.36363636,  -6.16161616,\n",
              "        -5.95959596,  -5.75757576,  -5.55555556,  -5.35353535,\n",
              "        -5.15151515,  -4.94949495,  -4.74747475,  -4.54545455,\n",
              "        -4.34343434,  -4.14141414,  -3.93939394,  -3.73737374,\n",
              "        -3.53535354,  -3.33333333,  -3.13131313,  -2.92929293,\n",
              "        -2.72727273,  -2.52525253,  -2.32323232,  -2.12121212,\n",
              "        -1.91919192,  -1.71717172,  -1.51515152,  -1.31313131,\n",
              "        -1.11111111,  -0.90909091,  -0.70707071,  -0.50505051,\n",
              "        -0.3030303 ,  -0.1010101 ,   0.1010101 ,   0.3030303 ,\n",
              "         0.50505051,   0.70707071,   0.90909091,   1.11111111,\n",
              "         1.31313131,   1.51515152,   1.71717172,   1.91919192,\n",
              "         2.12121212,   2.32323232,   2.52525253,   2.72727273,\n",
              "         2.92929293,   3.13131313,   3.33333333,   3.53535354,\n",
              "         3.73737374,   3.93939394,   4.14141414,   4.34343434,\n",
              "         4.54545455,   4.74747475,   4.94949495,   5.15151515,\n",
              "         5.35353535,   5.55555556,   5.75757576,   5.95959596,\n",
              "         6.16161616,   6.36363636,   6.56565657,   6.76767677,\n",
              "         6.96969697,   7.17171717,   7.37373737,   7.57575758,\n",
              "         7.77777778,   7.97979798,   8.18181818,   8.38383838,\n",
              "         8.58585859,   8.78787879,   8.98989899,   9.19191919,\n",
              "         9.39393939,   9.5959596 ,   9.7979798 ,  10.        ])"
            ]
          },
          "metadata": {},
          "execution_count": 97
        }
      ]
    },
    {
      "cell_type": "code",
      "source": [
        "y=x\n",
        "y"
      ],
      "metadata": {
        "colab": {
          "base_uri": "https://localhost:8080/"
        },
        "id": "pUOkBFw6u9Gb",
        "outputId": "091b53bf-91f0-42a4-82bd-982e63b64a99"
      },
      "execution_count": null,
      "outputs": [
        {
          "output_type": "execute_result",
          "data": {
            "text/plain": [
              "array([-10.        ,  -9.7979798 ,  -9.5959596 ,  -9.39393939,\n",
              "        -9.19191919,  -8.98989899,  -8.78787879,  -8.58585859,\n",
              "        -8.38383838,  -8.18181818,  -7.97979798,  -7.77777778,\n",
              "        -7.57575758,  -7.37373737,  -7.17171717,  -6.96969697,\n",
              "        -6.76767677,  -6.56565657,  -6.36363636,  -6.16161616,\n",
              "        -5.95959596,  -5.75757576,  -5.55555556,  -5.35353535,\n",
              "        -5.15151515,  -4.94949495,  -4.74747475,  -4.54545455,\n",
              "        -4.34343434,  -4.14141414,  -3.93939394,  -3.73737374,\n",
              "        -3.53535354,  -3.33333333,  -3.13131313,  -2.92929293,\n",
              "        -2.72727273,  -2.52525253,  -2.32323232,  -2.12121212,\n",
              "        -1.91919192,  -1.71717172,  -1.51515152,  -1.31313131,\n",
              "        -1.11111111,  -0.90909091,  -0.70707071,  -0.50505051,\n",
              "        -0.3030303 ,  -0.1010101 ,   0.1010101 ,   0.3030303 ,\n",
              "         0.50505051,   0.70707071,   0.90909091,   1.11111111,\n",
              "         1.31313131,   1.51515152,   1.71717172,   1.91919192,\n",
              "         2.12121212,   2.32323232,   2.52525253,   2.72727273,\n",
              "         2.92929293,   3.13131313,   3.33333333,   3.53535354,\n",
              "         3.73737374,   3.93939394,   4.14141414,   4.34343434,\n",
              "         4.54545455,   4.74747475,   4.94949495,   5.15151515,\n",
              "         5.35353535,   5.55555556,   5.75757576,   5.95959596,\n",
              "         6.16161616,   6.36363636,   6.56565657,   6.76767677,\n",
              "         6.96969697,   7.17171717,   7.37373737,   7.57575758,\n",
              "         7.77777778,   7.97979798,   8.18181818,   8.38383838,\n",
              "         8.58585859,   8.78787879,   8.98989899,   9.19191919,\n",
              "         9.39393939,   9.5959596 ,   9.7979798 ,  10.        ])"
            ]
          },
          "metadata": {},
          "execution_count": 98
        }
      ]
    },
    {
      "cell_type": "code",
      "source": [
        "import matplotlib.pyplot as plt\n",
        "plt.plot(x,y)"
      ],
      "metadata": {
        "colab": {
          "base_uri": "https://localhost:8080/",
          "height": 447
        },
        "id": "pQykdYo1vCmQ",
        "outputId": "bc9cbde1-6225-4929-cf02-4118f8f6b7b0"
      },
      "execution_count": null,
      "outputs": [
        {
          "output_type": "execute_result",
          "data": {
            "text/plain": [
              "[<matplotlib.lines.Line2D at 0x7855060eaa90>]"
            ]
          },
          "metadata": {},
          "execution_count": 99
        },
        {
          "output_type": "display_data",
          "data": {
            "text/plain": [
              "<Figure size 640x480 with 1 Axes>"
            ],
            "image/png": "[encoded data removed]"
          },
          "metadata": {}
        }
      ]
    },
    {
      "cell_type": "code",
      "source": [
        "y=x**2\n",
        "plt.plot(x,y)"
      ],
      "metadata": {
        "colab": {
          "base_uri": "https://localhost:8080/",
          "height": 447
        },
        "id": "xdYztF8ivUjO",
        "outputId": "c63819a1-e7d9-4786-d955-e5477df63161"
      },
      "execution_count": null,
      "outputs": [
        {
          "output_type": "execute_result",
          "data": {
            "text/plain": [
              "[<matplotlib.lines.Line2D at 0x7854d69d6350>]"
            ]
          },
          "metadata": {},
          "execution_count": 100
        },
        {
          "output_type": "display_data",
          "data": {
            "text/plain": [
              "<Figure size 640x480 with 1 Axes>"
            ],
            "image/png": "[encoded data removed]"
          },
          "metadata": {}
        }
      ]
    },
    {
      "cell_type": "code",
      "source": [
        "y=np.sin(x)\n",
        "plt.plot(x,y)"
      ],
      "metadata": {
        "colab": {
          "base_uri": "https://localhost:8080/",
          "height": 447
        },
        "id": "ia-mropEviG1",
        "outputId": "eae680d1-1abc-42c6-ced2-88f4453ebbb7"
      },
      "execution_count": null,
      "outputs": [
        {
          "output_type": "execute_result",
          "data": {
            "text/plain": [
              "[<matplotlib.lines.Line2D at 0x7854a943c410>]"
            ]
          },
          "metadata": {},
          "execution_count": 101
        },
        {
          "output_type": "display_data",
          "data": {
            "text/plain": [
              "<Figure size 640x480 with 1 Axes>"
            ],
            "image/png": "[encoded data removed]"
          },
          "metadata": {}
        }
      ]
    },
    {
      "cell_type": "code",
      "source": [
        "#sort\n",
        "\n",
        "import numpy as np\n",
        "a=np.random.randint(1,100,15)\n",
        "a\n",
        "a.sort(kind='mergesort')\n",
        "a"
      ],
      "metadata": {
        "colab": {
          "base_uri": "https://localhost:8080/"
        },
        "id": "BtR-rCUFv4d1",
        "outputId": "93c02e20-5ec7-4823-908a-7f9848b8ccfc"
      },
      "execution_count": null,
      "outputs": [
        {
          "output_type": "execute_result",
          "data": {
            "text/plain": [
              "array([ 8, 16, 21, 25, 30, 43, 54, 55, 57, 72, 79, 82, 83, 86, 99])"
            ]
          },
          "metadata": {},
          "execution_count": 166
        }
      ]
    },
    {
      "cell_type": "code",
      "source": [
        "b=np.random.randint(1,100,24).reshape(6,4)\n",
        "b"
      ],
      "metadata": {
        "colab": {
          "base_uri": "https://localhost:8080/"
        },
        "id": "-Kil3-cGyEiO",
        "outputId": "20fbf0ad-56f8-4945-b01a-c2987df0b47c"
      },
      "execution_count": null,
      "outputs": [
        {
          "output_type": "execute_result",
          "data": {
            "text/plain": [
              "array([[59, 28, 59, 66],\n",
              "       [74, 19, 52,  9],\n",
              "       [26,  3, 70, 59],\n",
              "       [ 8, 59, 83, 55],\n",
              "       [77, 58, 26, 97],\n",
              "       [14, 96, 83, 15]])"
            ]
          },
          "metadata": {},
          "execution_count": 103
        }
      ]
    },
    {
      "cell_type": "code",
      "source": [
        "np.sort(a)"
      ],
      "metadata": {
        "colab": {
          "base_uri": "https://localhost:8080/"
        },
        "id": "4y8ePw5pyUUV",
        "outputId": "3b89a2d3-2ba3-40f5-a392-9c765674ef0e"
      },
      "execution_count": null,
      "outputs": [
        {
          "output_type": "execute_result",
          "data": {
            "text/plain": [
              "array([ 3, 10, 26, 29, 31, 34, 41, 43, 47, 60, 68, 81, 85, 87, 91])"
            ]
          },
          "metadata": {},
          "execution_count": 104
        }
      ]
    },
    {
      "cell_type": "code",
      "source": [
        "np.sort(a)[::-1]"
      ],
      "metadata": {
        "colab": {
          "base_uri": "https://localhost:8080/"
        },
        "id": "NhWD8Za8zbUz",
        "outputId": "a8b2fac6-b47d-4f28-dc04-97385bffbdc7"
      },
      "execution_count": null,
      "outputs": [
        {
          "output_type": "execute_result",
          "data": {
            "text/plain": [
              "array([91, 87, 85, 81, 68, 60, 47, 43, 41, 34, 31, 29, 26, 10,  3])"
            ]
          },
          "metadata": {},
          "execution_count": 105
        }
      ]
    },
    {
      "cell_type": "code",
      "source": [],
      "metadata": {
        "id": "Y5rIbWCtzqaY"
      },
      "execution_count": null,
      "outputs": []
    },
    {
      "cell_type": "code",
      "source": [
        "b"
      ],
      "metadata": {
        "colab": {
          "base_uri": "https://localhost:8080/"
        },
        "id": "9RcF44neyd09",
        "outputId": "cfbae420-a574-4c23-ab09-7fe0f0f16e5b"
      },
      "execution_count": null,
      "outputs": [
        {
          "output_type": "execute_result",
          "data": {
            "text/plain": [
              "array([[59, 28, 59, 66],\n",
              "       [74, 19, 52,  9],\n",
              "       [26,  3, 70, 59],\n",
              "       [ 8, 59, 83, 55],\n",
              "       [77, 58, 26, 97],\n",
              "       [14, 96, 83, 15]])"
            ]
          },
          "metadata": {},
          "execution_count": 106
        }
      ]
    },
    {
      "cell_type": "code",
      "source": [
        "np.sort(b,axis=0)\n",
        "np.sort(b,axis=1)"
      ],
      "metadata": {
        "colab": {
          "base_uri": "https://localhost:8080/"
        },
        "id": "hY-xgypGzMgH",
        "outputId": "09bf6de9-be61-474c-e518-7e7393cf5e5b"
      },
      "execution_count": null,
      "outputs": [
        {
          "output_type": "execute_result",
          "data": {
            "text/plain": [
              "array([[28, 59, 59, 66],\n",
              "       [ 9, 19, 52, 74],\n",
              "       [ 3, 26, 59, 70],\n",
              "       [ 8, 55, 59, 83],\n",
              "       [26, 58, 77, 97],\n",
              "       [14, 15, 83, 96]])"
            ]
          },
          "metadata": {},
          "execution_count": 107
        }
      ]
    },
    {
      "cell_type": "code",
      "source": [
        "np.append(a,200)"
      ],
      "metadata": {
        "colab": {
          "base_uri": "https://localhost:8080/"
        },
        "id": "opi-a8MkzrY2",
        "outputId": "bb92e8c9-5ebd-4942-d2d8-f297051d09d5"
      },
      "execution_count": null,
      "outputs": [
        {
          "output_type": "execute_result",
          "data": {
            "text/plain": [
              "array([ 10,  81,  68,  43,   3,  85,  41,  47,  26,  87,  91,  34,  60,\n",
              "        29,  31, 200])"
            ]
          },
          "metadata": {},
          "execution_count": 108
        }
      ]
    },
    {
      "cell_type": "code",
      "source": [
        "np.append(b,np.ones((b.shape[0],1)),axis=1)"
      ],
      "metadata": {
        "colab": {
          "base_uri": "https://localhost:8080/"
        },
        "id": "J4g3ufSuz4ge",
        "outputId": "c4ea72be-2f88-4ab9-fd1a-34949728a5d2"
      },
      "execution_count": null,
      "outputs": [
        {
          "output_type": "execute_result",
          "data": {
            "text/plain": [
              "array([[59., 28., 59., 66.,  1.],\n",
              "       [74., 19., 52.,  9.,  1.],\n",
              "       [26.,  3., 70., 59.,  1.],\n",
              "       [ 8., 59., 83., 55.,  1.],\n",
              "       [77., 58., 26., 97.,  1.],\n",
              "       [14., 96., 83., 15.,  1.]])"
            ]
          },
          "metadata": {},
          "execution_count": 109
        }
      ]
    },
    {
      "cell_type": "code",
      "source": [
        "c=np.arange(6).reshape(2,3)\n",
        "d=np.arange(6,12).reshape(2,3)\n",
        "np.concatenate((c,d),axis=0)"
      ],
      "metadata": {
        "colab": {
          "base_uri": "https://localhost:8080/"
        },
        "id": "yoc_n_uL0nms",
        "outputId": "fa424cbf-f251-430e-b720-6828f89646f4"
      },
      "execution_count": null,
      "outputs": [
        {
          "output_type": "execute_result",
          "data": {
            "text/plain": [
              "array([[ 0,  1,  2],\n",
              "       [ 3,  4,  5],\n",
              "       [ 6,  7,  8],\n",
              "       [ 9, 10, 11]])"
            ]
          },
          "metadata": {},
          "execution_count": 110
        }
      ]
    },
    {
      "cell_type": "code",
      "source": [
        "np.concatenate((c,d),axis=1)"
      ],
      "metadata": {
        "colab": {
          "base_uri": "https://localhost:8080/"
        },
        "id": "7yKQHpBL1LSx",
        "outputId": "ee2e508e-32cf-42f2-b6fc-5e8b4e0a964b"
      },
      "execution_count": null,
      "outputs": [
        {
          "output_type": "execute_result",
          "data": {
            "text/plain": [
              "array([[ 0,  1,  2,  6,  7,  8],\n",
              "       [ 3,  4,  5,  9, 10, 11]])"
            ]
          },
          "metadata": {},
          "execution_count": 111
        }
      ]
    },
    {
      "cell_type": "code",
      "source": [
        "a=np.array([1,1,2,2,2,3,4,5,5])\n",
        "np.unique(a)"
      ],
      "metadata": {
        "colab": {
          "base_uri": "https://localhost:8080/"
        },
        "id": "Bc-lNzXj1ReC",
        "outputId": "c295200f-c471-4075-ceb8-718f86ef46bd"
      },
      "execution_count": null,
      "outputs": [
        {
          "output_type": "execute_result",
          "data": {
            "text/plain": [
              "array([1, 2, 3, 4, 5])"
            ]
          },
          "metadata": {},
          "execution_count": 112
        }
      ]
    },
    {
      "cell_type": "code",
      "source": [
        "a.shape"
      ],
      "metadata": {
        "colab": {
          "base_uri": "https://localhost:8080/"
        },
        "id": "9V2jKmoa2LMa",
        "outputId": "5e322b0a-3d55-4009-823c-2c6b6d6226c5"
      },
      "execution_count": null,
      "outputs": [
        {
          "output_type": "execute_result",
          "data": {
            "text/plain": [
              "(9,)"
            ]
          },
          "metadata": {},
          "execution_count": 113
        }
      ]
    },
    {
      "cell_type": "code",
      "source": [
        "#converting to 2d\n",
        "np.expand_dims(a,axis=0)"
      ],
      "metadata": {
        "colab": {
          "base_uri": "https://localhost:8080/"
        },
        "id": "arFBpTUg1t-h",
        "outputId": "7348e7e9-7750-45c6-afa3-98d62d6e0c51"
      },
      "execution_count": null,
      "outputs": [
        {
          "output_type": "execute_result",
          "data": {
            "text/plain": [
              "array([[1, 1, 2, 2, 2, 3, 4, 5, 5]])"
            ]
          },
          "metadata": {},
          "execution_count": 114
        }
      ]
    },
    {
      "cell_type": "code",
      "source": [
        "np.expand_dims(a,axis=1)"
      ],
      "metadata": {
        "colab": {
          "base_uri": "https://localhost:8080/"
        },
        "id": "sKHeG6qW2ORZ",
        "outputId": "96aa72fe-8677-4f54-f375-fcbcba469d36"
      },
      "execution_count": null,
      "outputs": [
        {
          "output_type": "execute_result",
          "data": {
            "text/plain": [
              "array([[1],\n",
              "       [1],\n",
              "       [2],\n",
              "       [2],\n",
              "       [2],\n",
              "       [3],\n",
              "       [4],\n",
              "       [5],\n",
              "       [5]])"
            ]
          },
          "metadata": {},
          "execution_count": 115
        }
      ]
    },
    {
      "cell_type": "code",
      "source": [
        "#np.where\n",
        "a=np.random.randint(1,100,15)\n",
        "a"
      ],
      "metadata": {
        "colab": {
          "base_uri": "https://localhost:8080/"
        },
        "id": "IRQrBvw-2UAI",
        "outputId": "56823ef1-9d88-4c35-845c-216689dd8b58"
      },
      "execution_count": null,
      "outputs": [
        {
          "output_type": "execute_result",
          "data": {
            "text/plain": [
              "array([54, 85, 27, 94, 83, 70, 14, 98, 92, 93, 65, 33, 34, 32, 28])"
            ]
          },
          "metadata": {},
          "execution_count": 116
        }
      ]
    },
    {
      "cell_type": "code",
      "source": [
        "np.where(a>50)#gives index position if condition is true"
      ],
      "metadata": {
        "colab": {
          "base_uri": "https://localhost:8080/"
        },
        "id": "-gVvUsjm3Ueh",
        "outputId": "e2124963-c425-4fc7-e7d6-708b10ffb8e4"
      },
      "execution_count": null,
      "outputs": [
        {
          "output_type": "execute_result",
          "data": {
            "text/plain": [
              "(array([ 0,  1,  3,  4,  5,  7,  8,  9, 10]),)"
            ]
          },
          "metadata": {},
          "execution_count": 117
        }
      ]
    },
    {
      "cell_type": "code",
      "source": [
        "#np.where(condition,True ,false)\n",
        "np.where(a>50,0,a)"
      ],
      "metadata": {
        "colab": {
          "base_uri": "https://localhost:8080/"
        },
        "id": "ReUvOuBh6TsE",
        "outputId": "6b3c3597-92bf-491b-9945-8ed2a288ebf4"
      },
      "execution_count": null,
      "outputs": [
        {
          "output_type": "execute_result",
          "data": {
            "text/plain": [
              "array([ 0,  0, 27,  0,  0,  0, 14,  0,  0,  0,  0, 33, 34, 32, 28])"
            ]
          },
          "metadata": {},
          "execution_count": 118
        }
      ]
    },
    {
      "cell_type": "code",
      "source": [
        "np.where(a%2==0,\"even\",\"odd\")"
      ],
      "metadata": {
        "colab": {
          "base_uri": "https://localhost:8080/"
        },
        "id": "oV8Bs7oD6eUf",
        "outputId": "401fe72d-cb43-438d-b9d0-c21ad19f00cb"
      },
      "execution_count": null,
      "outputs": [
        {
          "output_type": "execute_result",
          "data": {
            "text/plain": [
              "array(['even', 'odd', 'odd', 'even', 'odd', 'even', 'even', 'even',\n",
              "       'even', 'odd', 'odd', 'odd', 'even', 'even', 'even'], dtype='<U4')"
            ]
          },
          "metadata": {},
          "execution_count": 119
        }
      ]
    },
    {
      "cell_type": "code",
      "source": [
        "#argamx return index position of max element\n",
        "a"
      ],
      "metadata": {
        "colab": {
          "base_uri": "https://localhost:8080/"
        },
        "id": "7_hhoRYI6vCy",
        "outputId": "f097af5a-c80c-4b9d-df78-de104aeb6190"
      },
      "execution_count": null,
      "outputs": [
        {
          "output_type": "execute_result",
          "data": {
            "text/plain": [
              "array([54, 85, 27, 94, 83, 70, 14, 98, 92, 93, 65, 33, 34, 32, 28])"
            ]
          },
          "metadata": {},
          "execution_count": 120
        }
      ]
    },
    {
      "cell_type": "code",
      "source": [
        "a.argmax()\n",
        "np.argmax(a)"
      ],
      "metadata": {
        "colab": {
          "base_uri": "https://localhost:8080/"
        },
        "id": "FV8TxHU67FL_",
        "outputId": "5b958c51-d757-43ed-f571-410c3c45ba92"
      },
      "execution_count": null,
      "outputs": [
        {
          "output_type": "execute_result",
          "data": {
            "text/plain": [
              "7"
            ]
          },
          "metadata": {},
          "execution_count": 121
        }
      ]
    },
    {
      "cell_type": "code",
      "source": [
        "b"
      ],
      "metadata": {
        "colab": {
          "base_uri": "https://localhost:8080/"
        },
        "id": "qNTiq44V7inn",
        "outputId": "be1353ef-0175-482a-e1b1-7ab02b8b6a34"
      },
      "execution_count": null,
      "outputs": [
        {
          "output_type": "execute_result",
          "data": {
            "text/plain": [
              "array([[59, 28, 59, 66],\n",
              "       [74, 19, 52,  9],\n",
              "       [26,  3, 70, 59],\n",
              "       [ 8, 59, 83, 55],\n",
              "       [77, 58, 26, 97],\n",
              "       [14, 96, 83, 15]])"
            ]
          },
          "metadata": {},
          "execution_count": 122
        }
      ]
    },
    {
      "cell_type": "code",
      "source": [
        "np.argmax(b,axis=0)"
      ],
      "metadata": {
        "colab": {
          "base_uri": "https://localhost:8080/"
        },
        "id": "T3GcoiM87R_e",
        "outputId": "0c8fc1c8-a2ab-426e-87bc-d82609237c7e"
      },
      "execution_count": null,
      "outputs": [
        {
          "output_type": "execute_result",
          "data": {
            "text/plain": [
              "array([4, 5, 3, 4])"
            ]
          },
          "metadata": {},
          "execution_count": 123
        }
      ]
    },
    {
      "cell_type": "code",
      "source": [
        "np.argmin(a)"
      ],
      "metadata": {
        "colab": {
          "base_uri": "https://localhost:8080/"
        },
        "id": "TJItUEJa7yfI",
        "outputId": "8680c272-b1a7-473d-d399-8140ee72ac07"
      },
      "execution_count": null,
      "outputs": [
        {
          "output_type": "execute_result",
          "data": {
            "text/plain": [
              "6"
            ]
          },
          "metadata": {},
          "execution_count": 124
        }
      ]
    },
    {
      "cell_type": "code",
      "source": [
        "a"
      ],
      "metadata": {
        "colab": {
          "base_uri": "https://localhost:8080/"
        },
        "id": "jT3pdvic74pH",
        "outputId": "8e375d29-f8a0-43eb-c024-8d136b21af00"
      },
      "execution_count": null,
      "outputs": [
        {
          "output_type": "execute_result",
          "data": {
            "text/plain": [
              "array([54, 85, 27, 94, 83, 70, 14, 98, 92, 93, 65, 33, 34, 32, 28])"
            ]
          },
          "metadata": {},
          "execution_count": 125
        }
      ]
    },
    {
      "cell_type": "code",
      "source": [
        "np.cumsum(a)"
      ],
      "metadata": {
        "colab": {
          "base_uri": "https://localhost:8080/"
        },
        "id": "_y31nD828_vC",
        "outputId": "9a882464-6aa5-4ac4-e372-b400bfe20f4e"
      },
      "execution_count": null,
      "outputs": [
        {
          "output_type": "execute_result",
          "data": {
            "text/plain": [
              "array([ 54, 139, 166, 260, 343, 413, 427, 525, 617, 710, 775, 808, 842,\n",
              "       874, 902])"
            ]
          },
          "metadata": {},
          "execution_count": 126
        }
      ]
    },
    {
      "cell_type": "code",
      "source": [
        "np.cumprod(a)"
      ],
      "metadata": {
        "colab": {
          "base_uri": "https://localhost:8080/"
        },
        "id": "Tn_FKJ9I9EOQ",
        "outputId": "67ca77ff-5a3c-4707-a748-3ae8cad2ec1f"
      },
      "execution_count": null,
      "outputs": [
        {
          "output_type": "execute_result",
          "data": {
            "text/plain": [
              "array([                  54,                 4590,               123930,\n",
              "                   11649420,            966901860,          67683130200,\n",
              "               947563822800,       92861254634400,     8543235426364800,\n",
              "         794520894651926400, -3696374068753438848,  7146864247103379328,\n",
              "        3185711443290726144, -8737698256954073088, -4847878236489875456])"
            ]
          },
          "metadata": {},
          "execution_count": 127
        }
      ]
    },
    {
      "cell_type": "code",
      "source": [
        "np.percentile(a,50)"
      ],
      "metadata": {
        "colab": {
          "base_uri": "https://localhost:8080/"
        },
        "id": "ai3rT4jN9JEK",
        "outputId": "38203b79-c4b2-41d1-a55c-3ee2fb08e4a3"
      },
      "execution_count": null,
      "outputs": [
        {
          "output_type": "execute_result",
          "data": {
            "text/plain": [
              "65.0"
            ]
          },
          "metadata": {},
          "execution_count": 128
        }
      ]
    },
    {
      "cell_type": "code",
      "source": [
        "np.median(a)"
      ],
      "metadata": {
        "colab": {
          "base_uri": "https://localhost:8080/"
        },
        "id": "_LTmt2mR-SdL",
        "outputId": "f060a4d0-364a-4193-a7ea-48146f9cac6b"
      },
      "execution_count": null,
      "outputs": [
        {
          "output_type": "execute_result",
          "data": {
            "text/plain": [
              "65.0"
            ]
          },
          "metadata": {},
          "execution_count": 129
        }
      ]
    },
    {
      "cell_type": "code",
      "source": [
        "a"
      ],
      "metadata": {
        "colab": {
          "base_uri": "https://localhost:8080/"
        },
        "id": "ju8DGexr_EhR",
        "outputId": "98f9c3e6-4189-4151-fe4b-9b9e948b35dd"
      },
      "execution_count": null,
      "outputs": [
        {
          "output_type": "execute_result",
          "data": {
            "text/plain": [
              "array([54, 85, 27, 94, 83, 70, 14, 98, 92, 93, 65, 33, 34, 32, 28])"
            ]
          },
          "metadata": {},
          "execution_count": 130
        }
      ]
    },
    {
      "cell_type": "code",
      "source": [
        "#np.histogram\n",
        "np.histogram(a,bins=[0,10,20,30,40,50,60,70,80,90,100])"
      ],
      "metadata": {
        "colab": {
          "base_uri": "https://localhost:8080/"
        },
        "id": "fM5eGO37-fJZ",
        "outputId": "1aed5894-cd3e-4708-baf1-d3b3918f6adb"
      },
      "execution_count": null,
      "outputs": [
        {
          "output_type": "execute_result",
          "data": {
            "text/plain": [
              "(array([0, 1, 2, 3, 0, 1, 1, 1, 2, 4]),\n",
              " array([  0,  10,  20,  30,  40,  50,  60,  70,  80,  90, 100]))"
            ]
          },
          "metadata": {},
          "execution_count": 131
        }
      ]
    },
    {
      "cell_type": "code",
      "source": [
        " a"
      ],
      "metadata": {
        "id": "-O-40eBZ_u-6",
        "colab": {
          "base_uri": "https://localhost:8080/"
        },
        "outputId": "323415ce-5881-4354-eb4a-8b7aebcbea74"
      },
      "execution_count": null,
      "outputs": [
        {
          "output_type": "execute_result",
          "data": {
            "text/plain": [
              "array([54, 85, 27, 94, 83, 70, 14, 98, 92, 93, 65, 33, 34, 32, 28])"
            ]
          },
          "metadata": {},
          "execution_count": 132
        }
      ]
    },
    {
      "cell_type": "code",
      "source": [
        "items=[10,20,30,40,50,60,70,80,90,100]\n",
        "a[np.isin(a,items)]"
      ],
      "metadata": {
        "colab": {
          "base_uri": "https://localhost:8080/"
        },
        "id": "AIJD5tKOQiqQ",
        "outputId": "eec8b4f2-9a99-4148-a1f6-55ed56eee2ac"
      },
      "execution_count": null,
      "outputs": [
        {
          "output_type": "execute_result",
          "data": {
            "text/plain": [
              "array([70])"
            ]
          },
          "metadata": {},
          "execution_count": 133
        }
      ]
    },
    {
      "cell_type": "code",
      "source": [
        "a"
      ],
      "metadata": {
        "colab": {
          "base_uri": "https://localhost:8080/"
        },
        "id": "c2bYzSxZQ1ux",
        "outputId": "11a475ce-2fd6-4f52-d54e-e4ca7be0d065"
      },
      "execution_count": null,
      "outputs": [
        {
          "output_type": "execute_result",
          "data": {
            "text/plain": [
              "array([54, 85, 27, 94, 83, 70, 14, 98, 92, 93, 65, 33, 34, 32, 28])"
            ]
          },
          "metadata": {},
          "execution_count": 134
        }
      ]
    },
    {
      "cell_type": "code",
      "source": [
        "np.flip(a)"
      ],
      "metadata": {
        "colab": {
          "base_uri": "https://localhost:8080/"
        },
        "id": "s-1w3dYlQ9vg",
        "outputId": "c32da2ec-ab0d-452e-b827-484555b3361f"
      },
      "execution_count": null,
      "outputs": [
        {
          "output_type": "execute_result",
          "data": {
            "text/plain": [
              "array([28, 32, 34, 33, 65, 93, 92, 98, 14, 70, 83, 94, 27, 85, 54])"
            ]
          },
          "metadata": {},
          "execution_count": 135
        }
      ]
    },
    {
      "cell_type": "code",
      "source": [
        "b"
      ],
      "metadata": {
        "colab": {
          "base_uri": "https://localhost:8080/"
        },
        "id": "CZatjoJoRC1S",
        "outputId": "82ce5f00-7151-40df-91e1-022c9f0f4610"
      },
      "execution_count": null,
      "outputs": [
        {
          "output_type": "execute_result",
          "data": {
            "text/plain": [
              "array([[59, 28, 59, 66],\n",
              "       [74, 19, 52,  9],\n",
              "       [26,  3, 70, 59],\n",
              "       [ 8, 59, 83, 55],\n",
              "       [77, 58, 26, 97],\n",
              "       [14, 96, 83, 15]])"
            ]
          },
          "metadata": {},
          "execution_count": 136
        }
      ]
    },
    {
      "cell_type": "code",
      "source": [
        "np.flip(b,axis=0)"
      ],
      "metadata": {
        "colab": {
          "base_uri": "https://localhost:8080/"
        },
        "id": "4PHMa4dURLgO",
        "outputId": "f92731fb-fa2d-430f-b733-d079a72bd083"
      },
      "execution_count": null,
      "outputs": [
        {
          "output_type": "execute_result",
          "data": {
            "text/plain": [
              "array([[14, 96, 83, 15],\n",
              "       [77, 58, 26, 97],\n",
              "       [ 8, 59, 83, 55],\n",
              "       [26,  3, 70, 59],\n",
              "       [74, 19, 52,  9],\n",
              "       [59, 28, 59, 66]])"
            ]
          },
          "metadata": {},
          "execution_count": 137
        }
      ]
    },
    {
      "cell_type": "code",
      "source": [
        "a"
      ],
      "metadata": {
        "colab": {
          "base_uri": "https://localhost:8080/"
        },
        "id": "yHt6afaaRS5Y",
        "outputId": "1edcde5d-e1f7-4355-f4ba-f1a109aba410"
      },
      "execution_count": null,
      "outputs": [
        {
          "output_type": "execute_result",
          "data": {
            "text/plain": [
              "array([54, 85, 27, 94, 83, 70, 14, 98, 92, 93, 65, 33, 34, 32, 28])"
            ]
          },
          "metadata": {},
          "execution_count": 138
        }
      ]
    },
    {
      "cell_type": "code",
      "source": [
        "np.put(a,[0,1],[11,30])#this changes are permanent\n",
        "a"
      ],
      "metadata": {
        "colab": {
          "base_uri": "https://localhost:8080/"
        },
        "id": "tG3ExktxRwKh",
        "outputId": "3edf2ba9-ff74-4909-f1ed-107ed3dbd402"
      },
      "execution_count": null,
      "outputs": [
        {
          "output_type": "execute_result",
          "data": {
            "text/plain": [
              "array([11, 30, 27, 94, 83, 70, 14, 98, 92, 93, 65, 33, 34, 32, 28])"
            ]
          },
          "metadata": {},
          "execution_count": 139
        }
      ]
    },
    {
      "cell_type": "code",
      "source": [
        "np.delete(a,0)"
      ],
      "metadata": {
        "colab": {
          "base_uri": "https://localhost:8080/"
        },
        "id": "W9V3bdZPR32-",
        "outputId": "33a0bf51-eb28-4ee4-f722-f37efae453a0"
      },
      "execution_count": null,
      "outputs": [
        {
          "output_type": "execute_result",
          "data": {
            "text/plain": [
              "array([30, 27, 94, 83, 70, 14, 98, 92, 93, 65, 33, 34, 32, 28])"
            ]
          },
          "metadata": {},
          "execution_count": 140
        }
      ]
    },
    {
      "cell_type": "markdown",
      "source": [
        "Set Functions"
      ],
      "metadata": {
        "id": "M00kUwBgSnbK"
      }
    },
    {
      "cell_type": "code",
      "source": [
        "m=np.array([1,2,3,4,5])\n",
        "n=np.array([3,4,5,6,7])\n",
        "\n",
        "np.union1d(m,n)"
      ],
      "metadata": {
        "colab": {
          "base_uri": "https://localhost:8080/"
        },
        "id": "ZXprnYyhSrhY",
        "outputId": "53c2abc0-b706-4eaf-a0b6-21d1a8b88980"
      },
      "execution_count": null,
      "outputs": [
        {
          "output_type": "execute_result",
          "data": {
            "text/plain": [
              "array([1, 2, 3, 4, 5, 6, 7])"
            ]
          },
          "metadata": {},
          "execution_count": 141
        }
      ]
    },
    {
      "cell_type": "code",
      "source": [
        "np.intersect1d(m,n)"
      ],
      "metadata": {
        "colab": {
          "base_uri": "https://localhost:8080/"
        },
        "id": "IPDXjcJlTHyy",
        "outputId": "d03154f7-be69-435c-8fe2-02955d086813"
      },
      "execution_count": null,
      "outputs": [
        {
          "output_type": "execute_result",
          "data": {
            "text/plain": [
              "array([3, 4, 5])"
            ]
          },
          "metadata": {},
          "execution_count": 142
        }
      ]
    },
    {
      "cell_type": "code",
      "source": [
        "np.setdiff1d(m,n)\n"
      ],
      "metadata": {
        "colab": {
          "base_uri": "https://localhost:8080/"
        },
        "id": "yHWEh9FRTPCA",
        "outputId": "5df21069-6519-4e1c-9c4b-7aa191d0a079"
      },
      "execution_count": null,
      "outputs": [
        {
          "output_type": "execute_result",
          "data": {
            "text/plain": [
              "array([1, 2])"
            ]
          },
          "metadata": {},
          "execution_count": 143
        }
      ]
    },
    {
      "cell_type": "code",
      "source": [
        "np.setxor1d(m,n)"
      ],
      "metadata": {
        "colab": {
          "base_uri": "https://localhost:8080/"
        },
        "id": "FXjgSI3FTWXA",
        "outputId": "0ddc814d-a2c7-409e-f401-e8f22fd12f72"
      },
      "execution_count": null,
      "outputs": [
        {
          "output_type": "execute_result",
          "data": {
            "text/plain": [
              "array([1, 2, 6, 7])"
            ]
          },
          "metadata": {},
          "execution_count": 144
        }
      ]
    },
    {
      "cell_type": "code",
      "source": [
        "##########################scipy based on numpy underneath##############"
      ],
      "metadata": {
        "id": "QRVALVYtTj2A"
      },
      "execution_count": null,
      "outputs": []
    },
    {
      "cell_type": "code",
      "source": [
        "import scipy as sc\n",
        "import numpy as np"
      ],
      "metadata": {
        "id": "LGj3PI3ULBxc"
      },
      "execution_count": null,
      "outputs": []
    },
    {
      "cell_type": "code",
      "source": [
        "print(sc.__version__)"
      ],
      "metadata": {
        "colab": {
          "base_uri": "https://localhost:8080/"
        },
        "id": "XVGBELMyL6ZQ",
        "outputId": "b9d5b6a1-a68c-41da-fe40-32e622e200f7"
      },
      "execution_count": null,
      "outputs": [
        {
          "output_type": "stream",
          "name": "stdout",
          "text": [
            "1.13.1\n"
          ]
        }
      ]
    },
    {
      "cell_type": "code",
      "source": [
        "#constants in scipy:scipy is more focused on scientific implementations ,it\n",
        "#provides many built in scientific constants\n",
        "\n",
        "from scipy import constants\n",
        "\n",
        "\n",
        "#print(dir(constants))\n",
        "#print(constants.liter)\n",
        "\n",
        "#metric--returns the specified unit in meter\n",
        "constants.pi\n",
        "constants.yotta\n",
        "constants.zetta\n",
        "constants.kilo\n",
        "constants.zepto\n",
        "\n",
        "#bytes--returns the specified unit in bytes\n",
        "constants.kibi\n",
        "constants.mebi\n",
        "constants.gibi\n",
        "constants.tebi\n",
        "constants.pebi\n",
        "constants.exbi\n",
        "constants.zebi\n",
        "constants.yobi\n",
        "\n",
        "\n",
        "#angle--returns the specified unit in radians\n",
        "constants.degree\n",
        "constants.arcmin\n",
        "constants.arcsecond\n",
        "\n",
        "\n",
        "\n",
        "#mass--returns the ..in kg\n",
        "constants.gram\n",
        "constants.metric_ton\n",
        "constants.grain\n",
        "constants.lb\n",
        "constants.oz\n",
        "constants.ounce\n",
        "constants.metric_ton\n",
        "\n",
        "#time--returns the unit in seconds\n",
        "\n",
        "constants.minute\n",
        "constants.year\n",
        "\n",
        "#similarly for length,pressure,area,volume,speed,temperature,energy,power,force"
      ],
      "metadata": {
        "colab": {
          "base_uri": "https://localhost:8080/"
        },
        "id": "VfYrKdNqMlnr",
        "outputId": "74267a70-09f7-4121-8231-fbf3831215b6"
      },
      "execution_count": null,
      "outputs": [
        {
          "output_type": "execute_result",
          "data": {
            "text/plain": [
              "31536000.0"
            ]
          },
          "metadata": {},
          "execution_count": 148
        }
      ]
    },
    {
      "cell_type": "code",
      "source": [
        "############statistics###############\n",
        "\n",
        "from scipy import stats\n",
        "\n",
        "data=np.array([1,2,3,4,5,6,7,8,9])\n",
        "stats.mode(data)\n",
        "stats.skew(data)\n",
        "stats.kurtosis(data)\n",
        "stats.describe(data)\n",
        "stats.zscore(data)\n",
        "np.mean(data)\n",
        "np.median(data)\n",
        "#stats.ttest_1samp(data)\n",
        "#stats.ttest_ind(data)\n",
        "#stats.ttest_rel(data)\n",
        "#stats.linregress(data)\n",
        "#stats.pearsonr(data)\n",
        "\n",
        "#print(dir(stats))"
      ],
      "metadata": {
        "colab": {
          "base_uri": "https://localhost:8080/"
        },
        "id": "tLxaI9LaO8uk",
        "outputId": "13b1670b-ea86-4e09-f9ca-6ab8d04f18a6"
      },
      "execution_count": null,
      "outputs": [
        {
          "output_type": "execute_result",
          "data": {
            "text/plain": [
              "5.0"
            ]
          },
          "metadata": {},
          "execution_count": 149
        }
      ]
    },
    {
      "cell_type": "code",
      "source": [
        "##Optimizers\n",
        "from scipy.optimize import minimize\n",
        "from scipy.optimize import root\n",
        "\n",
        "def eqn(x):\n",
        "  return x+np.cos(x)\n",
        "\n",
        "myroot=root(eqn,0)#0 is an initial guess\n",
        "myroot\n",
        "def objective_function(x):\n",
        "  return x**2+5*np.sin(x)\n",
        "\n",
        "minimize(objective_function,0)\n",
        "#minimise method are:CG,BFGS,Newton-CG,L-BFGS-B,TNC,COBYLA,SLSQP\n",
        "minimize(objective_function,0,method='BFGS')\n",
        "minimize(objective_function,0,method='CG')"
      ],
      "metadata": {
        "colab": {
          "base_uri": "https://localhost:8080/"
        },
        "id": "sbOq3kzfDV3N",
        "outputId": "45fc8b1a-a1fa-49df-8d9f-226768915a74"
      },
      "execution_count": null,
      "outputs": [
        {
          "output_type": "execute_result",
          "data": {
            "text/plain": [
              " message: Optimization terminated successfully.\n",
              " success: True\n",
              "  status: 0\n",
              "     fun: -3.246394272691539\n",
              "       x: [-1.111e+00]\n",
              "     nit: 4\n",
              "     jac: [ 0.000e+00]\n",
              "    nfev: 16\n",
              "    njev: 8"
            ]
          },
          "metadata": {},
          "execution_count": 150
        }
      ]
    },
    {
      "cell_type": "code",
      "source": [
        "#####sparse data############\n",
        "#sparse matrices :CSC(compressed sparse column),CSR(compressed sparse row)\n",
        "from scipy import sparse\n",
        "from scipy.sparse import csr_matrix\n",
        "arr=np.array([[0,0,0],[0,0,1],[1,0,2]])\n",
        "arr\n",
        "csr_matrix(arr)\n",
        "sparse.csr_matrix(arr).data\n",
        "sparse.csr_matrix(arr).indices\n",
        "sparse.csr_matrix(arr).indptr\n",
        "sparse.csr_matrix(arr).shape\n",
        "sparse.csr_matrix(arr).todense()\n",
        "sparse.csr_matrix(arr).toarray()\n",
        "sparse.csr_matrix(arr).nnz#number of non zero elements in the matrix\n",
        "sparse.csr_matrix(arr).getformat()\n",
        "sparse.csr_matrix(arr).tocoo()\n",
        "sparse.csr_matrix(arr).tocsc()\n",
        "sparse.csr_matrix(arr).todia()\n",
        "#sparse.csr_matrix(arr).tolil()\n",
        "#sparse.csr_matrix(arr).tobsr()\n",
        "#sparse.csr_matrix(arr).tocsr()\n",
        "#sparse.csr_matrix(arr).toString()\n",
        "sparse.csr_matrix(arr).count_nonzero()\n",
        "print(sparse.csr_matrix(arr).sum_duplicates())\n",
        "#csr_matrix(arr).eliminate_zeros()"
      ],
      "metadata": {
        "colab": {
          "base_uri": "https://localhost:8080/"
        },
        "id": "uKHw2EU1ENqf",
        "outputId": "80e3d690-8ad6-419b-fc2b-171468a8c438"
      },
      "execution_count": null,
      "outputs": [
        {
          "output_type": "stream",
          "name": "stdout",
          "text": [
            "None\n"
          ]
        }
      ]
    },
    {
      "cell_type": "code",
      "source": [
        "######### graphs################\n",
        "from scipy.sparse.csgraph import connected_components\n",
        "from scipy.sparse.csgraph import dijkstra\n",
        "from scipy.sparse.csgraph import floyd_warshall\n",
        "from scipy.sparse.csgraph import depth_first_order\n",
        "from scipy.sparse.csgraph import breadth_first_order\n",
        "from scipy.sparse.csgraph import reverse_cuthill_mckee\n",
        "from scipy.sparse.csgraph import shortest_path\n",
        "from scipy.sparse.csgraph import minimum_spanning_tree\n",
        "#from scipy.sparse.csgraph import spanning_tree\n",
        "#from scipy.sparse.csgraph import toeplitz\n",
        "#from scipy.sparse.csgraph import linalg\n",
        "from scipy.sparse.csgraph import laplacian\n",
        "from scipy.sparse import csr_matrix\n",
        "arr=np.array([[0,1,2],[1,0,0],[2,0,0]])\n",
        "\n",
        "connected_components(csr_matrix(arr))\n",
        "dijkstra(csr_matrix(arr),return_predecessors=True,indices=0)\n",
        "floyd_warshall(csr_matrix(arr),return_predecessors=True)\n",
        "#depth_first_order(csr_matrix(arr))\n",
        "#breadth_first_order(csr_matrix(arr))\n",
        "reverse_cuthill_mckee(csr_matrix(arr))\n",
        "shortest_path(csr_matrix(arr),directed=False)\n",
        "minimum_spanning_tree(csr_matrix(arr))"
      ],
      "metadata": {
        "colab": {
          "base_uri": "https://localhost:8080/"
        },
        "id": "dYRXgMwPWABd",
        "outputId": "8e6c2024-217a-4849-9ad8-58001e81afd2"
      },
      "execution_count": null,
      "outputs": [
        {
          "output_type": "execute_result",
          "data": {
            "text/plain": [
              "<3x3 sparse matrix of type '<class 'numpy.float64'>'\n",
              "\twith 2 stored elements in Compressed Sparse Row format>"
            ]
          },
          "metadata": {},
          "execution_count": 152
        }
      ]
    },
    {
      "cell_type": "code",
      "source": [
        "######working with spatial data#####\n",
        "from scipy.spatial import distance\n",
        "from scipy.spatial import KDTree\n",
        "from scipy.spatial import ConvexHull\n",
        "from scipy.spatial import Delaunay\n",
        "from scipy.spatial import cKDTree\n",
        "from scipy.spatial import cKDTree\n",
        "import matplotlib.pyplot as plt\n",
        "a=[1,2,3]\n",
        "b=[4,5,6]\n",
        "distance.euclidean(a,b)\n",
        "distance.cityblock(a,b)#cityblock is manhattan distance\n",
        "distance.cosine(a,b)\n",
        "distance.correlation(a,b)\n",
        "distance.hamming([0,1,0,1],[1,0,1,0])\n",
        "distance.jaccard([0,1,0,1],[1,0,1,0])\n",
        "\n",
        "points=np.array([[2,4],[3,4],[3,0],[2,2],[4,1]])\n",
        "simplicies=Delaunay(points).simplices\n",
        "plt.triplot(points[:,0],points[:,1],simplicies)\n",
        "plt.plot(points[:,0],points[:,1],'o',color='r')\n",
        "\n",
        "plt.show()"
      ],
      "metadata": {
        "colab": {
          "base_uri": "https://localhost:8080/",
          "height": 430
        },
        "id": "vmtPAGPfZCBV",
        "outputId": "a259f1c1-b83a-40dc-bfe9-94f23a31f3b7"
      },
      "execution_count": null,
      "outputs": [
        {
          "output_type": "display_data",
          "data": {
            "text/plain": [
              "<Figure size 640x480 with 1 Axes>"
            ],
            "image/png": "[encoded data removed]"
          },
          "metadata": {}
        }
      ]
    },
    {
      "cell_type": "code",
      "source": [
        "from scipy import integrate\n",
        "def f(x):\n",
        "  return x**2+5*np.sin(x)\n",
        "\n",
        "result,error=integrate.quad(f,0,np.pi)"
      ],
      "metadata": {
        "id": "_XvlgADlE5tN"
      },
      "execution_count": null,
      "outputs": []
    },
    {
      "cell_type": "code",
      "source": [
        "############ interpolation##########\n",
        "from scipy.interpolate import interp1d\n",
        "from scipy.interpolate import Rbf\n",
        "xs=np.arange(10)\n",
        "ys=2.5*xs+1.5+np.random.normal(0,4,10)\n",
        "f1=interp1d(xs,ys)\n",
        "f1(np.arange(3))\n",
        "f2=Rbf(xs,ys)\n",
        "f2(np.arange(3))"
      ],
      "metadata": {
        "colab": {
          "base_uri": "https://localhost:8080/"
        },
        "id": "0tIs4v_NcbOi",
        "outputId": "81cb31b8-f765-4a5b-9098-f698f7082abf"
      },
      "execution_count": null,
      "outputs": [
        {
          "output_type": "execute_result",
          "data": {
            "text/plain": [
              "array([ 3.44284327,  7.07995087, -1.27022934])"
            ]
          },
          "metadata": {},
          "execution_count": 155
        }
      ]
    },
    {
      "cell_type": "code",
      "source": [
        "########################   Random sampling in numpy ###############################"
      ],
      "metadata": {
        "id": "qtg8KhupfPsC"
      },
      "execution_count": null,
      "outputs": []
    },
    {
      "cell_type": "code",
      "source": [
        "# all these are  function for random sampling , values between [0,1)\n",
        "\n",
        "np.random.ranf(size=(2,3))\n",
        "np.random.random_sample(size=(2,3))\n",
        "np.random.random()\n",
        "np.random.sample()\n",
        "np.random.rand()# generate random float between 0 and 1\n",
        "#np.random.seed(3)\n",
        "np.random.rand(5)"
      ],
      "metadata": {
        "colab": {
          "base_uri": "https://localhost:8080/"
        },
        "id": "3terA_oZfVb5",
        "outputId": "a3e79417-fe4f-41df-dc26-069949cc5430"
      },
      "execution_count": null,
      "outputs": [
        {
          "output_type": "execute_result",
          "data": {
            "text/plain": [
              "array([0.1920723 , 0.72566962, 0.7849367 , 0.97209836, 0.85097142])"
            ]
          },
          "metadata": {},
          "execution_count": 184
        }
      ]
    },
    {
      "cell_type": "code",
      "source": [
        "#It returns an array of specified shape and fills it with random integers from low (inclusive) to high (exclusive), i.e. in the interval [low, high).\n",
        "\n",
        "np.random.randint(low=0,high=10,size=(2,3))\n",
        "np.random.random_integers(low=0,high=5,size=4)\n",
        "np.random.random_integers(low=4,size=(2,3))\n",
        "np.random.randint(100)# generate random number b/w 0 to 100\n"
      ],
      "metadata": {
        "colab": {
          "base_uri": "https://localhost:8080/"
        },
        "id": "HhNeZ4oXgA_0",
        "outputId": "c354108a-42af-49dc-e83e-be0eb3458877"
      },
      "execution_count": null,
      "outputs": [
        {
          "output_type": "stream",
          "name": "stderr",
          "text": [
            "<ipython-input-158-c032e44c1fe4>:4: DeprecationWarning: This function is deprecated. Please call randint(0, 5 + 1) instead\n",
            "  np.random.random_integers(low=0,high=5,size=4)\n",
            "<ipython-input-158-c032e44c1fe4>:5: DeprecationWarning: This function is deprecated. Please call randint(1, 4 + 1) instead\n",
            "  np.random.random_integers(low=4,size=(2,3))\n"
          ]
        },
        {
          "output_type": "execute_result",
          "data": {
            "text/plain": [
              "array([0.58534944, 0.47101167, 0.87108706, 0.08244259, 0.36901048])"
            ]
          },
          "metadata": {},
          "execution_count": 158
        }
      ]
    },
    {
      "cell_type": "code",
      "source": [
        "np.random.choice(10,size=4)\n",
        "np.random.choice(10,size=(2,3))\n",
        "np.random.choice(10,size=(2,3),replace=False)\n",
        "np.random.choice(10,size=(2,3),replace=True)"
      ],
      "metadata": {
        "id": "M5MTkNJggY4l",
        "colab": {
          "base_uri": "https://localhost:8080/"
        },
        "outputId": "42a391f2-803a-4d94-a12e-d6d4af4b063c"
      },
      "execution_count": null,
      "outputs": [
        {
          "output_type": "execute_result",
          "data": {
            "text/plain": [
              "array([[3, 7, 0],\n",
              "       [0, 0, 2]])"
            ]
          },
          "metadata": {},
          "execution_count": 159
        }
      ]
    },
    {
      "cell_type": "code",
      "source": [
        "import numpy as np\n",
        "\n",
        "arr = np.array([1, 2, 3, 4, 5])\n",
        "x = arr.copy()\n",
        "arr[0] = 42\n",
        "\n",
        "print(arr)\n",
        "print(x)"
      ],
      "metadata": {
        "colab": {
          "base_uri": "https://localhost:8080/"
        },
        "id": "nSg3tiZqo36r",
        "outputId": "8949ec6b-8aaa-45ef-b9d5-f5199df3f79c"
      },
      "execution_count": null,
      "outputs": [
        {
          "output_type": "stream",
          "name": "stdout",
          "text": [
            "[42  2  3  4  5]\n",
            "[1 2 3 4 5]\n"
          ]
        }
      ]
    },
    {
      "cell_type": "code",
      "source": [
        "import numpy as np\n",
        "\n",
        "arr = np.array([1, 2, 3, 4, 5])\n",
        "x = arr.view()\n",
        "arr[0] = 42\n",
        "\n",
        "print(arr)\n",
        "print(x)"
      ],
      "metadata": {
        "colab": {
          "base_uri": "https://localhost:8080/"
        },
        "id": "dNujmqgBo6ei",
        "outputId": "c53217c3-8e79-453a-a589-8d36b5915113"
      },
      "execution_count": null,
      "outputs": [
        {
          "output_type": "stream",
          "name": "stdout",
          "text": [
            "[42  2  3  4  5]\n",
            "[42  2  3  4  5]\n"
          ]
        }
      ]
    },
    {
      "cell_type": "code",
      "source": [
        "import numpy as np\n",
        "\n",
        "arr = np.array([1, 2, 3, 4, 5, 6])\n",
        "\n",
        "newarr = np.array_split(arr, 3)\n",
        "\n",
        "print(newarr)"
      ],
      "metadata": {
        "colab": {
          "base_uri": "https://localhost:8080/"
        },
        "id": "J1SbrY8DptAP",
        "outputId": "3254bc58-99ee-49e4-df06-8eac7bf07f5b"
      },
      "execution_count": null,
      "outputs": [
        {
          "output_type": "stream",
          "name": "stdout",
          "text": [
            "[array([1, 2]), array([3, 4]), array([5, 6])]\n"
          ]
        }
      ]
    },
    {
      "cell_type": "code",
      "source": [
        "##################### distributions #############"
      ],
      "metadata": {
        "id": "Ct3HuRIstyOK"
      },
      "execution_count": null,
      "outputs": []
    },
    {
      "cell_type": "code",
      "source": [
        "np.random.binomial(n=10,p=0.5,size=10)\n",
        "np.random.poisson(lam=2,size=10)\n",
        "np.random.normal(loc=1,scale=2,size=10)\n",
        "np.random.beta(a=1,b=1,size=10)\n",
        "np.random.chisquare(df=1,size=10)\n",
        "np.random.gamma(shape=2,scale=2,size=10)\n",
        "np.random.uniform(low=0,high=1,size=10)\n",
        "np.random.exponential(scale=2,size=10)\n",
        "np.random.standard_t(df=1,size=10)\n",
        "np.random.standard_exponential(size=10)\n",
        "np.random.standard_normal(size=10)\n",
        "np.random.standard_cauchy(size=10)\n",
        "\n",
        "np.random.rayleigh(scale=1,size=10)\n",
        "np.random.pareto(a=2,size=10)\n",
        "np.random.weibull(a=1,size=10)\n",
        "#np.random.erlang(scale=1,size=10)\n",
        "np.random.lognormal(mean=0,sigma=1,size=10)\n",
        "np.random.laplace(loc=0,scale=1,size=10)"
      ],
      "metadata": {
        "colab": {
          "base_uri": "https://localhost:8080/"
        },
        "id": "iL0D4H30t1UD",
        "outputId": "c5527af6-64fc-4e21-d985-6d3266484ed3"
      },
      "execution_count": null,
      "outputs": [
        {
          "output_type": "execute_result",
          "data": {
            "text/plain": [
              "array([ 0.76928954,  2.61552399,  0.02880988, -0.87684706, -1.86291214,\n",
              "       -0.50163002,  2.55276939, -0.49656105,  0.06009002,  0.75875764])"
            ]
          },
          "metadata": {},
          "execution_count": 164
        }
      ]
    }
  ]
}